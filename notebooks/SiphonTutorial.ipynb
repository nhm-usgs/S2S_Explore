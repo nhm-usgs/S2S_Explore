{
 "cells": [
  {
   "cell_type": "markdown",
   "metadata": {
    "slideshow": {
     "slide_type": "slide"
    }
   },
   "source": [
    "<center>\n",
    "<h1>Accessing THREDDS using Siphon</h1>\n",
    "<br>\n",
    "<h3>25 July 2017\n",
    "<br>\n",
    "<br>\n",
    "Ryan May (@dopplershift)\n",
    "<br><br>\n",
    "UCAR/Unidata<br>\n",
    "</h3>\n",
    "</center>"
   ]
  },
  {
   "cell_type": "markdown",
   "metadata": {
    "slideshow": {
     "slide_type": "slide"
    }
   },
   "source": [
    "\n",
    "# What is Siphon?\n",
    "\n",
    "* Python library for remote data access\n",
    "* Focus on atmospheric and oceanic data sources\n",
    "* Bulk of features focused on THREDDS"
   ]
  },
  {
   "cell_type": "markdown",
   "metadata": {
    "slideshow": {
     "slide_type": "subslide"
    }
   },
   "source": [
    "## Installing on Azure"
   ]
  },
  {
   "cell_type": "code",
   "execution_count": 1,
   "metadata": {},
   "outputs": [
    {
     "name": "stdout",
     "output_type": "stream",
     "text": [
      "Fetching package metadata ...........\n",
      "Solving package specifications: .\n",
      "\n",
      "# All requested packages already installed.\n",
      "# packages in environment at /home/nbcommon/anaconda3_410:\n",
      "#\n",
      "siphon                    0.5.0                    py35_0    conda-forge\n"
     ]
    }
   ],
   "source": [
    "!conda install --name root siphon -y -c conda-forge"
   ]
  },
  {
   "cell_type": "markdown",
   "metadata": {
    "slideshow": {
     "slide_type": "subslide"
    }
   },
   "source": [
    "## Functionality\n",
    "* THREDDS catalog parser\n",
    "* NetCDF Subset Service (NCSS) client\n",
    "* CDM Remote client\n",
    "* Radar Query Service client"
   ]
  },
  {
   "cell_type": "markdown",
   "metadata": {
    "slideshow": {
     "slide_type": "slide"
    }
   },
   "source": [
    "# THREDDS?\n",
    "* Server for data collections in various formats\n",
    "* Powered by netCDF-Java\n",
    "* Provides catalogs of data with metadata information\n",
    "* Programmatic access to data with various services"
   ]
  },
  {
   "cell_type": "markdown",
   "metadata": {
    "slideshow": {
     "slide_type": "subslide"
    }
   },
   "source": [
    "* Metadata services\n",
    "  - ISO\n",
    "  - UDDC\n",
    "  - NCML"
   ]
  },
  {
   "cell_type": "markdown",
   "metadata": {
    "slideshow": {
     "slide_type": "fragment"
    }
   },
   "source": [
    "* Download service (HTTPServer)"
   ]
  },
  {
   "cell_type": "markdown",
   "metadata": {
    "slideshow": {
     "slide_type": "fragment"
    }
   },
   "source": [
    "- Subsetting\n",
    "  * WMS/WCS\n",
    "  * OPeNDAP and CDMRemote\n",
    "  * NetCDF Subset Service (NCSS)"
   ]
  },
  {
   "cell_type": "markdown",
   "metadata": {
    "slideshow": {
     "slide_type": "subslide"
    }
   },
   "source": [
    "## THREDDS Demo\n",
    "http://thredds.ucar.edu"
   ]
  },
  {
   "cell_type": "markdown",
   "metadata": {
    "slideshow": {
     "slide_type": "slide"
    }
   },
   "source": [
    "# Siphon for THREDDS\n",
    "- Let's start by parsing a THREDDS catalog"
   ]
  },
  {
   "cell_type": "code",
   "execution_count": 1,
   "metadata": {
    "slideshow": {
     "slide_type": "fragment"
    }
   },
   "outputs": [],
   "source": [
    "from siphon.catalog import TDSCatalog\n",
    "top_cat = TDSCatalog('https://www.ncei.noaa.gov/thredds/catalog/model-cfs_refor_fl_6h_seasonal/catalog.xml')"
   ]
  },
  {
   "cell_type": "markdown",
   "metadata": {
    "slideshow": {
     "slide_type": "fragment"
    }
   },
   "source": [
    "That takes care of download the catalog, parsing the XML, and doing useful things. From here we can do things like look at all the catalog references..."
   ]
  },
  {
   "cell_type": "code",
   "execution_count": 2,
   "metadata": {
    "slideshow": {
     "slide_type": "subslide"
    }
   },
   "outputs": [
    {
     "name": "stdout",
     "output_type": "stream",
     "text": [
      "z700\n",
      "z500\n",
      "z1000\n",
      "wnd850\n",
      "wnd200\n",
      "ulwtoa\n",
      "tmpsfc\n",
      "tmp2m\n",
      "prate\n",
      "lhtfl\n",
      "dswsfc\n",
      "chi200\n"
     ]
    }
   ],
   "source": [
    "for ref in top_cat.catalog_refs:\n",
    "    print(ref)"
   ]
  },
  {
   "cell_type": "markdown",
   "metadata": {
    "slideshow": {
     "slide_type": "fragment"
    }
   },
   "source": [
    "So we can see what's available at the top level. We can also extract exactly what we're looking for using the name of the item:"
   ]
  },
  {
   "cell_type": "code",
   "execution_count": 7,
   "metadata": {},
   "outputs": [
    {
     "data": {
      "text/plain": [
       "'https://www.ncei.noaa.gov/thredds/catalog/model-cfs_refor_fl_6h_seasonal/tmpsfc/catalog.xml'"
      ]
     },
     "execution_count": 7,
     "metadata": {},
     "output_type": "execute_result"
    }
   ],
   "source": [
    "ref = top_cat.catalog_refs['tmpsfc']\n",
    "ref.href"
   ]
  },
  {
   "cell_type": "markdown",
   "metadata": {
    "slideshow": {
     "slide_type": "subslide"
    }
   },
   "source": [
    "Or we can just access by position:"
   ]
  },
  {
   "cell_type": "code",
   "execution_count": 8,
   "metadata": {},
   "outputs": [],
   "source": [
    "# ref = top_cat.catalog_refs[0]\n",
    "# ref.href"
   ]
  },
  {
   "cell_type": "markdown",
   "metadata": {
    "slideshow": {
     "slide_type": "fragment"
    }
   },
   "source": [
    "and then resolve that catalog reference to get a new catalog."
   ]
  },
  {
   "cell_type": "code",
   "execution_count": 9,
   "metadata": {},
   "outputs": [
    {
     "data": {
      "text/plain": [
       "['200912',\n",
       " '200911',\n",
       " '200910',\n",
       " '200909',\n",
       " '200908',\n",
       " '200907',\n",
       " '200906',\n",
       " '200905',\n",
       " '200904',\n",
       " '200903',\n",
       " '200902',\n",
       " '200901',\n",
       " '200812',\n",
       " '200811',\n",
       " '200810',\n",
       " '200809',\n",
       " '200808',\n",
       " '200807',\n",
       " '200806',\n",
       " '200805',\n",
       " '200804',\n",
       " '200803',\n",
       " '200802',\n",
       " '200801',\n",
       " '200712',\n",
       " '200711',\n",
       " '200710',\n",
       " '200709',\n",
       " '200708',\n",
       " '200707',\n",
       " '200706',\n",
       " '200705',\n",
       " '200704',\n",
       " '200703',\n",
       " '200702',\n",
       " '200701',\n",
       " '200612',\n",
       " '200611',\n",
       " '200610',\n",
       " '200609',\n",
       " '200608',\n",
       " '200607',\n",
       " '200606',\n",
       " '200605',\n",
       " '200604',\n",
       " '200603',\n",
       " '200602',\n",
       " '200601',\n",
       " '200512',\n",
       " '200511',\n",
       " '200510',\n",
       " '200509',\n",
       " '200508',\n",
       " '200507',\n",
       " '200506',\n",
       " '200505',\n",
       " '200504',\n",
       " '200503',\n",
       " '200502',\n",
       " '200501',\n",
       " '200412',\n",
       " '200411',\n",
       " '200410',\n",
       " '200409',\n",
       " '200408',\n",
       " '200407',\n",
       " '200406',\n",
       " '200405',\n",
       " '200404',\n",
       " '200403',\n",
       " '200402',\n",
       " '200401',\n",
       " '200312',\n",
       " '200311',\n",
       " '200310',\n",
       " '200309',\n",
       " '200308',\n",
       " '200307',\n",
       " '200306',\n",
       " '200305',\n",
       " '200304',\n",
       " '200303',\n",
       " '200302',\n",
       " '200301',\n",
       " '200212',\n",
       " '200211',\n",
       " '200210',\n",
       " '200209',\n",
       " '200208',\n",
       " '200207',\n",
       " '200206',\n",
       " '200205',\n",
       " '200204',\n",
       " '200203',\n",
       " '200202',\n",
       " '200201',\n",
       " '200112',\n",
       " '200111',\n",
       " '200110',\n",
       " '200109',\n",
       " '200108',\n",
       " '200107',\n",
       " '200106',\n",
       " '200105',\n",
       " '200104',\n",
       " '200103',\n",
       " '200102',\n",
       " '200101',\n",
       " '200012',\n",
       " '200011',\n",
       " '200010',\n",
       " '200009',\n",
       " '200008',\n",
       " '200007',\n",
       " '200006',\n",
       " '200005',\n",
       " '200004',\n",
       " '200003',\n",
       " '200002',\n",
       " '200001',\n",
       " '199912',\n",
       " '199911',\n",
       " '199910',\n",
       " '199909',\n",
       " '199908',\n",
       " '199906',\n",
       " '199905',\n",
       " '199904',\n",
       " '199903',\n",
       " '199902',\n",
       " '199901']"
      ]
     },
     "execution_count": 9,
     "metadata": {},
     "output_type": "execute_result"
    }
   ],
   "source": [
    "new_cat = ref.follow()\n",
    "list(new_cat.catalog_refs)"
   ]
  },
  {
   "cell_type": "markdown",
   "metadata": {
    "slideshow": {
     "slide_type": "subslide"
    }
   },
   "source": [
    "We can do this one more time, but instead of `catalog_refs`, we look at the `datasets` attribute to see the list of datasets available."
   ]
  },
  {
   "cell_type": "code",
   "execution_count": 10,
   "metadata": {},
   "outputs": [
    {
     "data": {
      "text/plain": [
       "['tmpsfc_f.01.2009083118.2009101518.2009083118.grb2',\n",
       " 'tmpsfc_f.01.2009083112.2009101512.2009083112.grb2',\n",
       " 'tmpsfc_f.01.2009083106.2009101506.2009083106.grb2',\n",
       " 'tmpsfc_f.01.2009083100.2009120100.2009083100.grb2',\n",
       " 'tmpsfc_f.01.2009083018.2009101418.2009083018.grb2',\n",
       " 'tmpsfc_f.01.2009083012.2009101412.2009083012.grb2',\n",
       " 'tmpsfc_f.01.2009083006.2009101406.2009083006.grb2',\n",
       " 'tmpsfc_f.01.2009083000.2009120100.2009083000.grb2',\n",
       " 'tmpsfc_f.01.2009082918.2009101318.2009082918.grb2',\n",
       " 'tmpsfc_f.01.2009082912.2009101312.2009082912.grb2',\n",
       " 'tmpsfc_f.01.2009082906.2009101306.2009082906.grb2',\n",
       " 'tmpsfc_f.01.2009082900.2009120100.2009082900.grb2',\n",
       " 'tmpsfc_f.01.2009082818.2009101218.2009082818.grb2',\n",
       " 'tmpsfc_f.01.2009082812.2009101212.2009082812.grb2',\n",
       " 'tmpsfc_f.01.2009082806.2009101206.2009082806.grb2',\n",
       " 'tmpsfc_f.01.2009082800.2009120100.2009082800.grb2',\n",
       " 'tmpsfc_f.01.2009082718.2009101118.2009082718.grb2',\n",
       " 'tmpsfc_f.01.2009082712.2009101112.2009082712.grb2',\n",
       " 'tmpsfc_f.01.2009082706.2009101106.2009082706.grb2',\n",
       " 'tmpsfc_f.01.2009082700.2009120100.2009082700.grb2',\n",
       " 'tmpsfc_f.01.2009082618.2009101018.2009082618.grb2',\n",
       " 'tmpsfc_f.01.2009082612.2009101012.2009082612.grb2',\n",
       " 'tmpsfc_f.01.2009082606.2009101006.2009082606.grb2',\n",
       " 'tmpsfc_f.01.2009082600.2009120100.2009082600.grb2',\n",
       " 'tmpsfc_f.01.2009082518.2009100918.2009082518.grb2',\n",
       " 'tmpsfc_f.01.2009082512.2009100912.2009082512.grb2',\n",
       " 'tmpsfc_f.01.2009082506.2009100906.2009082506.grb2',\n",
       " 'tmpsfc_f.01.2009082500.2009120100.2009082500.grb2',\n",
       " 'tmpsfc_f.01.2009082418.2009100818.2009082418.grb2',\n",
       " 'tmpsfc_f.01.2009082412.2009100812.2009082412.grb2',\n",
       " 'tmpsfc_f.01.2009082406.2009100806.2009082406.grb2',\n",
       " 'tmpsfc_f.01.2009082400.2009120100.2009082400.grb2',\n",
       " 'tmpsfc_f.01.2009082318.2009100718.2009082318.grb2',\n",
       " 'tmpsfc_f.01.2009082312.2009100712.2009082312.grb2',\n",
       " 'tmpsfc_f.01.2009082306.2009100706.2009082306.grb2',\n",
       " 'tmpsfc_f.01.2009082300.2009120100.2009082300.grb2',\n",
       " 'tmpsfc_f.01.2009082218.2009100618.2009082218.grb2',\n",
       " 'tmpsfc_f.01.2009082212.2009100612.2009082212.grb2',\n",
       " 'tmpsfc_f.01.2009082206.2009100606.2009082206.grb2',\n",
       " 'tmpsfc_f.01.2009082200.2009120100.2009082200.grb2',\n",
       " 'tmpsfc_f.01.2009082118.2009100518.2009082118.grb2',\n",
       " 'tmpsfc_f.01.2009082112.2009100512.2009082112.grb2',\n",
       " 'tmpsfc_f.01.2009082106.2009100506.2009082106.grb2',\n",
       " 'tmpsfc_f.01.2009082100.2009120100.2009082100.grb2',\n",
       " 'tmpsfc_f.01.2009082018.2009100418.2009082018.grb2',\n",
       " 'tmpsfc_f.01.2009082012.2009100412.2009082012.grb2',\n",
       " 'tmpsfc_f.01.2009082006.2009100406.2009082006.grb2',\n",
       " 'tmpsfc_f.01.2009082000.2009120100.2009082000.grb2',\n",
       " 'tmpsfc_f.01.2009081918.2009100318.2009081918.grb2',\n",
       " 'tmpsfc_f.01.2009081912.2009100312.2009081912.grb2',\n",
       " 'tmpsfc_f.01.2009081906.2009100306.2009081906.grb2',\n",
       " 'tmpsfc_f.01.2009081900.2009120100.2009081900.grb2',\n",
       " 'tmpsfc_f.01.2009081818.2009100218.2009081818.grb2',\n",
       " 'tmpsfc_f.01.2009081812.2009100212.2009081812.grb2',\n",
       " 'tmpsfc_f.01.2009081806.2009100206.2009081806.grb2',\n",
       " 'tmpsfc_f.01.2009081800.2009120100.2009081800.grb2',\n",
       " 'tmpsfc_f.01.2009081718.2009100118.2009081718.grb2',\n",
       " 'tmpsfc_f.01.2009081712.2009100112.2009081712.grb2',\n",
       " 'tmpsfc_f.01.2009081706.2009100106.2009081706.grb2',\n",
       " 'tmpsfc_f.01.2009081700.2009120100.2009081700.grb2',\n",
       " 'tmpsfc_f.01.2009081618.2009093018.2009081618.grb2',\n",
       " 'tmpsfc_f.01.2009081612.2009093012.2009081612.grb2',\n",
       " 'tmpsfc_f.01.2009081606.2009093006.2009081606.grb2',\n",
       " 'tmpsfc_f.01.2009081600.2009120100.2009081600.grb2',\n",
       " 'tmpsfc_f.01.2009081518.2009092918.2009081518.grb2',\n",
       " 'tmpsfc_f.01.2009081512.2009092912.2009081512.grb2',\n",
       " 'tmpsfc_f.01.2009081506.2009092906.2009081506.grb2',\n",
       " 'tmpsfc_f.01.2009081500.2009120100.2009081500.grb2',\n",
       " 'tmpsfc_f.01.2009081418.2009092818.2009081418.grb2',\n",
       " 'tmpsfc_f.01.2009081412.2009092812.2009081412.grb2',\n",
       " 'tmpsfc_f.01.2009081406.2009092806.2009081406.grb2',\n",
       " 'tmpsfc_f.01.2009081400.2009120100.2009081400.grb2',\n",
       " 'tmpsfc_f.01.2009081318.2009092718.2009081318.grb2',\n",
       " 'tmpsfc_f.01.2009081312.2009092712.2009081312.grb2',\n",
       " 'tmpsfc_f.01.2009081306.2009092706.2009081306.grb2',\n",
       " 'tmpsfc_f.01.2009081300.2009120100.2009081300.grb2',\n",
       " 'tmpsfc_f.01.2009081218.2009092618.2009081218.grb2',\n",
       " 'tmpsfc_f.01.2009081212.2009092612.2009081212.grb2',\n",
       " 'tmpsfc_f.01.2009081206.2009092606.2009081206.grb2',\n",
       " 'tmpsfc_f.01.2009081200.2009120100.2009081200.grb2',\n",
       " 'tmpsfc_f.01.2009081118.2009092518.2009081118.grb2',\n",
       " 'tmpsfc_f.01.2009081112.2009092512.2009081112.grb2',\n",
       " 'tmpsfc_f.01.2009081106.2009092506.2009081106.grb2',\n",
       " 'tmpsfc_f.01.2009081100.2009120100.2009081100.grb2',\n",
       " 'tmpsfc_f.01.2009081018.2009092418.2009081018.grb2',\n",
       " 'tmpsfc_f.01.2009081012.2009092412.2009081012.grb2',\n",
       " 'tmpsfc_f.01.2009081006.2009092406.2009081006.grb2',\n",
       " 'tmpsfc_f.01.2009081000.2009120100.2009081000.grb2',\n",
       " 'tmpsfc_f.01.2009080918.2009092318.2009080918.grb2',\n",
       " 'tmpsfc_f.01.2009080912.2009092312.2009080912.grb2',\n",
       " 'tmpsfc_f.01.2009080906.2009092306.2009080906.grb2',\n",
       " 'tmpsfc_f.01.2009080900.2009120100.2009080900.grb2',\n",
       " 'tmpsfc_f.01.2009080818.2009092218.2009080818.grb2',\n",
       " 'tmpsfc_f.01.2009080812.2009092212.2009080812.grb2',\n",
       " 'tmpsfc_f.01.2009080806.2009092206.2009080806.grb2',\n",
       " 'tmpsfc_f.01.2009080800.2009120100.2009080800.grb2',\n",
       " 'tmpsfc_f.01.2009080718.2009092118.2009080718.grb2',\n",
       " 'tmpsfc_f.01.2009080712.2009092112.2009080712.grb2',\n",
       " 'tmpsfc_f.01.2009080706.2009092106.2009080706.grb2',\n",
       " 'tmpsfc_f.01.2009080700.2009120100.2009080700.grb2',\n",
       " 'tmpsfc_f.01.2009080618.2009092018.2009080618.grb2',\n",
       " 'tmpsfc_f.01.2009080612.2009092012.2009080612.grb2',\n",
       " 'tmpsfc_f.01.2009080606.2009092006.2009080606.grb2',\n",
       " 'tmpsfc_f.01.2009080600.2009120100.2009080600.grb2',\n",
       " 'tmpsfc_f.01.2009080518.2009091918.2009080518.grb2',\n",
       " 'tmpsfc_f.01.2009080512.2009091912.2009080512.grb2',\n",
       " 'tmpsfc_f.01.2009080506.2009091906.2009080506.grb2',\n",
       " 'tmpsfc_f.01.2009080500.2009120100.2009080500.grb2',\n",
       " 'tmpsfc_f.01.2009080418.2009091818.2009080418.grb2',\n",
       " 'tmpsfc_f.01.2009080412.2009091812.2009080412.grb2',\n",
       " 'tmpsfc_f.01.2009080406.2009091806.2009080406.grb2',\n",
       " 'tmpsfc_f.01.2009080400.2009120100.2009080400.grb2',\n",
       " 'tmpsfc_f.01.2009080318.2009091718.2009080318.grb2',\n",
       " 'tmpsfc_f.01.2009080312.2009091712.2009080312.grb2',\n",
       " 'tmpsfc_f.01.2009080306.2009091706.2009080306.grb2',\n",
       " 'tmpsfc_f.01.2009080300.2009120100.2009080300.grb2',\n",
       " 'tmpsfc_f.01.2009080218.2009091618.2009080218.grb2',\n",
       " 'tmpsfc_f.01.2009080212.2009091612.2009080212.grb2',\n",
       " 'tmpsfc_f.01.2009080206.2009091606.2009080206.grb2',\n",
       " 'tmpsfc_f.01.2009080200.2009120100.2009080200.grb2',\n",
       " 'tmpsfc_f.01.2009080118.2009091518.2009080118.grb2',\n",
       " 'tmpsfc_f.01.2009080112.2009091512.2009080112.grb2',\n",
       " 'tmpsfc_f.01.2009080106.2009091506.2009080106.grb2',\n",
       " 'tmpsfc_f.01.2009080100.2009120100.2009080100.grb2']"
      ]
     },
     "execution_count": 10,
     "metadata": {},
     "output_type": "execute_result"
    }
   ],
   "source": [
    "gfs_cat = new_cat.catalog_refs[4].follow()\n",
    "list(gfs_cat.datasets)"
   ]
  },
  {
   "cell_type": "markdown",
   "metadata": {
    "slideshow": {
     "slide_type": "subslide"
    }
   },
   "source": [
    "`datasets` works just like `catalog_refs` in providing both name- and position-based access. Here we can access the first dataset in the catalog:"
   ]
  },
  {
   "cell_type": "code",
   "execution_count": 11,
   "metadata": {},
   "outputs": [
    {
     "data": {
      "text/plain": [
       "'tmpsfc_f.01.2009083118.2009101518.2009083118.grb2'"
      ]
     },
     "execution_count": 11,
     "metadata": {},
     "output_type": "execute_result"
    }
   ],
   "source": [
    "ds = gfs_cat.datasets[0]\n",
    "ds.name"
   ]
  },
  {
   "cell_type": "markdown",
   "metadata": {},
   "source": [
    "For catalogs that have a latest\" automatically updated, dataset, the attribute `latest` is available:"
   ]
  },
  {
   "cell_type": "code",
   "execution_count": 12,
   "metadata": {},
   "outputs": [
    {
     "ename": "AttributeError",
     "evalue": "\"latest\" not available for this catalog",
     "output_type": "error",
     "traceback": [
      "\u001b[1;31m---------------------------------------------------------------------------\u001b[0m",
      "\u001b[1;31mAttributeError\u001b[0m                            Traceback (most recent call last)",
      "\u001b[1;32m<ipython-input-12-1d1f5f4f8027>\u001b[0m in \u001b[0;36m<module>\u001b[1;34m\u001b[0m\n\u001b[1;32m----> 1\u001b[1;33m \u001b[0mds\u001b[0m \u001b[1;33m=\u001b[0m \u001b[0mgfs_cat\u001b[0m\u001b[1;33m.\u001b[0m\u001b[0mlatest\u001b[0m\u001b[1;33m\u001b[0m\u001b[1;33m\u001b[0m\u001b[0m\n\u001b[0m\u001b[0;32m      2\u001b[0m \u001b[0mds\u001b[0m\u001b[1;33m.\u001b[0m\u001b[0mname\u001b[0m\u001b[1;33m\u001b[0m\u001b[1;33m\u001b[0m\u001b[0m\n",
      "\u001b[1;32m~\\anaconda3\\envs\\gfsetl\\lib\\site-packages\\siphon\\catalog.py\u001b[0m in \u001b[0;36mlatest\u001b[1;34m(self)\u001b[0m\n\u001b[0;32m    367\u001b[0m                 \u001b[0mlatest_cat\u001b[0m \u001b[1;33m=\u001b[0m \u001b[0mself\u001b[0m\u001b[1;33m.\u001b[0m\u001b[0mcatalog_url\u001b[0m\u001b[1;33m.\u001b[0m\u001b[0mreplace\u001b[0m\u001b[1;33m(\u001b[0m\u001b[1;34m'catalog.xml'\u001b[0m\u001b[1;33m,\u001b[0m \u001b[1;34m'latest.xml'\u001b[0m\u001b[1;33m)\u001b[0m\u001b[1;33m\u001b[0m\u001b[1;33m\u001b[0m\u001b[0m\n\u001b[0;32m    368\u001b[0m                 \u001b[1;32mreturn\u001b[0m \u001b[0mTDSCatalog\u001b[0m\u001b[1;33m(\u001b[0m\u001b[0mlatest_cat\u001b[0m\u001b[1;33m)\u001b[0m\u001b[1;33m.\u001b[0m\u001b[0mdatasets\u001b[0m\u001b[1;33m[\u001b[0m\u001b[1;36m0\u001b[0m\u001b[1;33m]\u001b[0m\u001b[1;33m\u001b[0m\u001b[1;33m\u001b[0m\u001b[0m\n\u001b[1;32m--> 369\u001b[1;33m         \u001b[1;32mraise\u001b[0m \u001b[0mAttributeError\u001b[0m\u001b[1;33m(\u001b[0m\u001b[1;34m'\"latest\" not available for this catalog'\u001b[0m\u001b[1;33m)\u001b[0m\u001b[1;33m\u001b[0m\u001b[1;33m\u001b[0m\u001b[0m\n\u001b[0m\u001b[0;32m    370\u001b[0m \u001b[1;33m\u001b[0m\u001b[0m\n\u001b[0;32m    371\u001b[0m     \u001b[0m__repr__\u001b[0m \u001b[1;33m=\u001b[0m \u001b[0m__str__\u001b[0m\u001b[1;33m\u001b[0m\u001b[1;33m\u001b[0m\u001b[0m\n",
      "\u001b[1;31mAttributeError\u001b[0m: \"latest\" not available for this catalog"
     ]
    }
   ],
   "source": [
    "# ds = gfs_cat.latest\n",
    "# ds.name"
   ]
  },
  {
   "cell_type": "markdown",
   "metadata": {
    "slideshow": {
     "slide_type": "subslide"
    }
   },
   "source": [
    "Let's get a new catalog directly to some satellite data:\n",
    "http://thredds.ucar.edu/thredds/idd/satellite.html"
   ]
  },
  {
   "cell_type": "code",
   "execution_count": 21,
   "metadata": {},
   "outputs": [
    {
     "name": "stdout",
     "output_type": "stream",
     "text": [
      "https://www.ncei.noaa.gov/thredds/catalog/model-cfs_refor_fl_6h_seasonal/tmpsfc/200912/catalog.xml\n",
      "['tmpsfc_f.01.2009120106.2010011506.2009120106.grb2']\n",
      "<class 'siphon.catalog.DatasetCollection'>\n"
     ]
    }
   ],
   "source": [
    "import re\n",
    "sat_cat = TDSCatalog('https://www.ncei.noaa.gov/thredds/catalog/model-cfs_refor_fl_6h_seasonal/tmpsfc/200912/catalog.xml')\n",
    "# print(type(sat_cat))\n",
    "# print(sat_cat.services)\n",
    "# for serv in sat_cat.services:\n",
    "#     print(serv.service_type)\n",
    "print(sat_cat.catalog_url)    \n",
    "list(sat_cat.datasets.keys())\n",
    "gfsrun = '2009120106.grb'\n",
    "res = [x for x in sat_cat.datasets.keys() if re.search(gfsrun, x)]\n",
    "print(res)\n",
    "print(type(sat_cat.datasets))"
   ]
  },
  {
   "cell_type": "code",
   "execution_count": 22,
   "metadata": {},
   "outputs": [
    {
     "name": "stdout",
     "output_type": "stream",
     "text": [
      "<xarray.Dataset>\n",
      "Dimensions:                 (lat: 190, lon: 384, time: 180)\n",
      "Coordinates:\n",
      "  * lat                     (lat) float32 89.27671 88.33975 ... -89.27671\n",
      "  * lon                     (lon) float32 0.0 0.93749875 ... 358.1245 359.062\n",
      "    reftime                 datetime64[ns] ...\n",
      "  * time                    (time) datetime64[ns] 2009-12-01T12:00:00 ... 2010-01-15T06:00:00\n",
      "Data variables:\n",
      "    GaussLatLon_Projection  int32 ...\n",
      "    Temperature_surface     (time, lat, lon) float32 ...\n",
      "Attributes:\n",
      "    Originating_or_generating_Center:                                        ...\n",
      "    Originating_or_generating_Subcenter:                                     ...\n",
      "    GRIB_table_version:                                                      ...\n",
      "    Type_of_generating_process:                                              ...\n",
      "    Analysis_or_forecast_generating_process_identifier_defined_by_originating...\n",
      "    file_format:                                                             ...\n",
      "    Conventions:                                                             ...\n",
      "    history:                                                                 ...\n",
      "    featureType:                                                             ...\n"
     ]
    },
    {
     "data": {
      "image/png": "[encoded data removed]",
      "text/plain": [
       "<Figure size 432x288 with 2 Axes>"
      ]
     },
     "metadata": {
      "needs_background": "light"
     },
     "output_type": "display_data"
    }
   ],
   "source": [
    "import xarray as xr\n",
    "from xarray.backends import NetCDF4DataStore\n",
    "fobj = sat_cat.datasets.get(res[0]).remote_access()\n",
    "fobj.variables\n",
    "data = xr.open_dataset(NetCDF4DataStore(fobj))\n",
    "data\n",
    "data.Temperature_surface.isel(time=[0]).plot()\n",
    "# nc = fobj.remote_access()\n",
    "print(data)"
   ]
  },
  {
   "cell_type": "code",
   "execution_count": 23,
   "metadata": {},
   "outputs": [
    {
     "data": {
      "text/html": [
       "<div><svg style=\"position: absolute; width: 0; height: 0; overflow: hidden\">\n",
       "<defs>\n",
       "<symbol id=\"icon-database\" viewBox=\"0 0 32 32\">\n",
       "<title>Show/Hide data repr</title>\n",
       "<path d=\"M16 0c-8.837 0-16 2.239-16 5v4c0 2.761 7.163 5 16 5s16-2.239 16-5v-4c0-2.761-7.163-5-16-5z\"></path>\n",
       "<path d=\"M16 17c-8.837 0-16-2.239-16-5v6c0 2.761 7.163 5 16 5s16-2.239 16-5v-6c0 2.761-7.163 5-16 5z\"></path>\n",
       "<path d=\"M16 26c-8.837 0-16-2.239-16-5v6c0 2.761 7.163 5 16 5s16-2.239 16-5v-6c0 2.761-7.163 5-16 5z\"></path>\n",
       "</symbol>\n",
       "<symbol id=\"icon-file-text2\" viewBox=\"0 0 32 32\">\n",
       "<title>Show/Hide attributes</title>\n",
       "<path d=\"M28.681 7.159c-0.694-0.947-1.662-2.053-2.724-3.116s-2.169-2.030-3.116-2.724c-1.612-1.182-2.393-1.319-2.841-1.319h-15.5c-1.378 0-2.5 1.121-2.5 2.5v27c0 1.378 1.122 2.5 2.5 2.5h23c1.378 0 2.5-1.122 2.5-2.5v-19.5c0-0.448-0.137-1.23-1.319-2.841zM24.543 5.457c0.959 0.959 1.712 1.825 2.268 2.543h-4.811v-4.811c0.718 0.556 1.584 1.309 2.543 2.268zM28 29.5c0 0.271-0.229 0.5-0.5 0.5h-23c-0.271 0-0.5-0.229-0.5-0.5v-27c0-0.271 0.229-0.5 0.5-0.5 0 0 15.499-0 15.5 0v7c0 0.552 0.448 1 1 1h7v19.5z\"></path>\n",
       "<path d=\"M23 26h-14c-0.552 0-1-0.448-1-1s0.448-1 1-1h14c0.552 0 1 0.448 1 1s-0.448 1-1 1z\"></path>\n",
       "<path d=\"M23 22h-14c-0.552 0-1-0.448-1-1s0.448-1 1-1h14c0.552 0 1 0.448 1 1s-0.448 1-1 1z\"></path>\n",
       "<path d=\"M23 18h-14c-0.552 0-1-0.448-1-1s0.448-1 1-1h14c0.552 0 1 0.448 1 1s-0.448 1-1 1z\"></path>\n",
       "</symbol>\n",
       "</defs>\n",
       "</svg>\n",
       "<style>/* CSS stylesheet for displaying xarray objects in jupyterlab.\n",
       " *\n",
       " */\n",
       "\n",
       ":root {\n",
       "  --xr-font-color0: var(--jp-content-font-color0, rgba(0, 0, 0, 1));\n",
       "  --xr-font-color2: var(--jp-content-font-color2, rgba(0, 0, 0, 0.54));\n",
       "  --xr-font-color3: var(--jp-content-font-color3, rgba(0, 0, 0, 0.38));\n",
       "  --xr-border-color: var(--jp-border-color2, #e0e0e0);\n",
       "  --xr-disabled-color: var(--jp-layout-color3, #bdbdbd);\n",
       "  --xr-background-color: var(--jp-layout-color0, white);\n",
       "  --xr-background-color-row-even: var(--jp-layout-color1, white);\n",
       "  --xr-background-color-row-odd: var(--jp-layout-color2, #eeeeee);\n",
       "}\n",
       "\n",
       ".xr-wrap {\n",
       "  min-width: 300px;\n",
       "  max-width: 700px;\n",
       "}\n",
       "\n",
       ".xr-header {\n",
       "  padding-top: 6px;\n",
       "  padding-bottom: 6px;\n",
       "  margin-bottom: 4px;\n",
       "  border-bottom: solid 1px var(--xr-border-color);\n",
       "}\n",
       "\n",
       ".xr-header > div,\n",
       ".xr-header > ul {\n",
       "  display: inline;\n",
       "  margin-top: 0;\n",
       "  margin-bottom: 0;\n",
       "}\n",
       "\n",
       ".xr-obj-type,\n",
       ".xr-array-name {\n",
       "  margin-left: 2px;\n",
       "  margin-right: 10px;\n",
       "}\n",
       "\n",
       ".xr-obj-type {\n",
       "  color: var(--xr-font-color2);\n",
       "}\n",
       "\n",
       ".xr-sections {\n",
       "  padding-left: 0 !important;\n",
       "  display: grid;\n",
       "  grid-template-columns: 150px auto auto 1fr 20px 20px;\n",
       "}\n",
       "\n",
       ".xr-section-item {\n",
       "  display: contents;\n",
       "}\n",
       "\n",
       ".xr-section-item input {\n",
       "  display: none;\n",
       "}\n",
       "\n",
       ".xr-section-item input + label {\n",
       "  color: var(--xr-disabled-color);\n",
       "}\n",
       "\n",
       ".xr-section-item input:enabled + label {\n",
       "  cursor: pointer;\n",
       "  color: var(--xr-font-color2);\n",
       "}\n",
       "\n",
       ".xr-section-item input:enabled + label:hover {\n",
       "  color: var(--xr-font-color0);\n",
       "}\n",
       "\n",
       ".xr-section-summary {\n",
       "  grid-column: 1;\n",
       "  color: var(--xr-font-color2);\n",
       "  font-weight: 500;\n",
       "}\n",
       "\n",
       ".xr-section-summary > span {\n",
       "  display: inline-block;\n",
       "  padding-left: 0.5em;\n",
       "}\n",
       "\n",
       ".xr-section-summary-in:disabled + label {\n",
       "  color: var(--xr-font-color2);\n",
       "}\n",
       "\n",
       ".xr-section-summary-in + label:before {\n",
       "  display: inline-block;\n",
       "  content: '►';\n",
       "  font-size: 11px;\n",
       "  width: 15px;\n",
       "  text-align: center;\n",
       "}\n",
       "\n",
       ".xr-section-summary-in:disabled + label:before {\n",
       "  color: var(--xr-disabled-color);\n",
       "}\n",
       "\n",
       ".xr-section-summary-in:checked + label:before {\n",
       "  content: '▼';\n",
       "}\n",
       "\n",
       ".xr-section-summary-in:checked + label > span {\n",
       "  display: none;\n",
       "}\n",
       "\n",
       ".xr-section-summary,\n",
       ".xr-section-inline-details {\n",
       "  padding-top: 4px;\n",
       "  padding-bottom: 4px;\n",
       "}\n",
       "\n",
       ".xr-section-inline-details {\n",
       "  grid-column: 2 / -1;\n",
       "}\n",
       "\n",
       ".xr-section-details {\n",
       "  display: none;\n",
       "  grid-column: 1 / -1;\n",
       "  margin-bottom: 5px;\n",
       "}\n",
       "\n",
       ".xr-section-summary-in:checked ~ .xr-section-details {\n",
       "  display: contents;\n",
       "}\n",
       "\n",
       ".xr-array-wrap {\n",
       "  grid-column: 1 / -1;\n",
       "  display: grid;\n",
       "  grid-template-columns: 20px auto;\n",
       "}\n",
       "\n",
       ".xr-array-wrap > label {\n",
       "  grid-column: 1;\n",
       "  vertical-align: top;\n",
       "}\n",
       "\n",
       ".xr-preview {\n",
       "  color: var(--xr-font-color3);\n",
       "}\n",
       "\n",
       ".xr-array-preview,\n",
       ".xr-array-data {\n",
       "  padding: 0 5px !important;\n",
       "  grid-column: 2;\n",
       "}\n",
       "\n",
       ".xr-array-data,\n",
       ".xr-array-in:checked ~ .xr-array-preview {\n",
       "  display: none;\n",
       "}\n",
       "\n",
       ".xr-array-in:checked ~ .xr-array-data,\n",
       ".xr-array-preview {\n",
       "  display: inline-block;\n",
       "}\n",
       "\n",
       ".xr-dim-list {\n",
       "  display: inline-block !important;\n",
       "  list-style: none;\n",
       "  padding: 0 !important;\n",
       "  margin: 0;\n",
       "}\n",
       "\n",
       ".xr-dim-list li {\n",
       "  display: inline-block;\n",
       "  padding: 0;\n",
       "  margin: 0;\n",
       "}\n",
       "\n",
       ".xr-dim-list:before {\n",
       "  content: '(';\n",
       "}\n",
       "\n",
       ".xr-dim-list:after {\n",
       "  content: ')';\n",
       "}\n",
       "\n",
       ".xr-dim-list li:not(:last-child):after {\n",
       "  content: ',';\n",
       "  padding-right: 5px;\n",
       "}\n",
       "\n",
       ".xr-has-index {\n",
       "  font-weight: bold;\n",
       "}\n",
       "\n",
       ".xr-var-list,\n",
       ".xr-var-item {\n",
       "  display: contents;\n",
       "}\n",
       "\n",
       ".xr-var-item > div,\n",
       ".xr-var-item label,\n",
       ".xr-var-item > .xr-var-name span {\n",
       "  background-color: var(--xr-background-color-row-even);\n",
       "  margin-bottom: 0;\n",
       "}\n",
       "\n",
       ".xr-var-item > .xr-var-name:hover span {\n",
       "  padding-right: 5px;\n",
       "}\n",
       "\n",
       ".xr-var-list > li:nth-child(odd) > div,\n",
       ".xr-var-list > li:nth-child(odd) > label,\n",
       ".xr-var-list > li:nth-child(odd) > .xr-var-name span {\n",
       "  background-color: var(--xr-background-color-row-odd);\n",
       "}\n",
       "\n",
       ".xr-var-name {\n",
       "  grid-column: 1;\n",
       "}\n",
       "\n",
       ".xr-var-dims {\n",
       "  grid-column: 2;\n",
       "}\n",
       "\n",
       ".xr-var-dtype {\n",
       "  grid-column: 3;\n",
       "  text-align: right;\n",
       "  color: var(--xr-font-color2);\n",
       "}\n",
       "\n",
       ".xr-var-preview {\n",
       "  grid-column: 4;\n",
       "}\n",
       "\n",
       ".xr-var-name,\n",
       ".xr-var-dims,\n",
       ".xr-var-dtype,\n",
       ".xr-preview,\n",
       ".xr-attrs dt {\n",
       "  white-space: nowrap;\n",
       "  overflow: hidden;\n",
       "  text-overflow: ellipsis;\n",
       "  padding-right: 10px;\n",
       "}\n",
       "\n",
       ".xr-var-name:hover,\n",
       ".xr-var-dims:hover,\n",
       ".xr-var-dtype:hover,\n",
       ".xr-attrs dt:hover {\n",
       "  overflow: visible;\n",
       "  width: auto;\n",
       "  z-index: 1;\n",
       "}\n",
       "\n",
       ".xr-var-attrs,\n",
       ".xr-var-data {\n",
       "  display: none;\n",
       "  background-color: var(--xr-background-color) !important;\n",
       "  padding-bottom: 5px !important;\n",
       "}\n",
       "\n",
       ".xr-var-attrs-in:checked ~ .xr-var-attrs,\n",
       ".xr-var-data-in:checked ~ .xr-var-data {\n",
       "  display: block;\n",
       "}\n",
       "\n",
       ".xr-var-data > table {\n",
       "  float: right;\n",
       "}\n",
       "\n",
       ".xr-var-name span,\n",
       ".xr-var-data,\n",
       ".xr-attrs {\n",
       "  padding-left: 25px !important;\n",
       "}\n",
       "\n",
       ".xr-attrs,\n",
       ".xr-var-attrs,\n",
       ".xr-var-data {\n",
       "  grid-column: 1 / -1;\n",
       "}\n",
       "\n",
       "dl.xr-attrs {\n",
       "  padding: 0;\n",
       "  margin: 0;\n",
       "  display: grid;\n",
       "  grid-template-columns: 125px auto;\n",
       "}\n",
       "\n",
       ".xr-attrs dt, dd {\n",
       "  padding: 0;\n",
       "  margin: 0;\n",
       "  float: left;\n",
       "  padding-right: 10px;\n",
       "  width: auto;\n",
       "}\n",
       "\n",
       ".xr-attrs dt {\n",
       "  font-weight: normal;\n",
       "  grid-column: 1;\n",
       "}\n",
       "\n",
       ".xr-attrs dt:hover span {\n",
       "  display: inline-block;\n",
       "  background: var(--xr-background-color);\n",
       "  padding-right: 10px;\n",
       "}\n",
       "\n",
       ".xr-attrs dd {\n",
       "  grid-column: 2;\n",
       "  white-space: pre-wrap;\n",
       "  word-break: break-all;\n",
       "}\n",
       "\n",
       ".xr-icon-database,\n",
       ".xr-icon-file-text2 {\n",
       "  display: inline-block;\n",
       "  vertical-align: middle;\n",
       "  width: 1em;\n",
       "  height: 1.5em !important;\n",
       "  stroke-width: 0;\n",
       "  stroke: currentColor;\n",
       "  fill: currentColor;\n",
       "}\n",
       "</style><div class='xr-wrap'><div class='xr-header'><div class='xr-obj-type'>xarray.Dataset</div></div><ul class='xr-sections'><li class='xr-section-item'><input id='section-18d066ea-04d8-4916-9be2-9205f4d668fb' class='xr-section-summary-in' type='checkbox' disabled ><label for='section-18d066ea-04d8-4916-9be2-9205f4d668fb' class='xr-section-summary'  title='Expand/collapse section'>Dimensions:</label><div class='xr-section-inline-details'><ul class='xr-dim-list'><li><span class='xr-has-index'>lat</span>: 190</li><li><span class='xr-has-index'>lon</span>: 384</li><li><span class='xr-has-index'>time</span>: 180</li></ul></div><div class='xr-section-details'></div></li><li class='xr-section-item'><input id='section-46e0819a-cabc-4582-84c8-d2d965fecdd0' class='xr-section-summary-in' type='checkbox'  checked><label for='section-46e0819a-cabc-4582-84c8-d2d965fecdd0' class='xr-section-summary' >Coordinates: <span>(4)</span></label><div class='xr-section-inline-details'></div><div class='xr-section-details'><ul class='xr-var-list'><li class='xr-var-item'><div class='xr-var-name'><span class='xr-has-index'>lat</span></div><div class='xr-var-dims'>(lat)</div><div class='xr-var-dtype'>float32</div><div class='xr-var-preview xr-preview'>89.27671 88.33975 ... -89.27671</div><input id='attrs-a4cc04c9-7e2c-4550-a3ed-fa3be0a3237a' class='xr-var-attrs-in' type='checkbox' ><label for='attrs-a4cc04c9-7e2c-4550-a3ed-fa3be0a3237a' title='Show/Hide attributes'><svg class='icon xr-icon-file-text2'><use xlink:href='#icon-file-text2'></use></svg></label><input id='data-92495c1c-f9d1-4e0c-9810-8d91fc106cbd' class='xr-var-data-in' type='checkbox'><label for='data-92495c1c-f9d1-4e0c-9810-8d91fc106cbd' title='Show/Hide data repr'><svg class='icon xr-icon-database'><use xlink:href='#icon-database'></use></svg></label><div class='xr-var-attrs'><dl class='xr-attrs'><dt><span>units :</span></dt><dd>degrees_north</dd></dl></div><pre class='xr-var-data'>array([ 89.27671 ,  88.33975 ,  87.39726 ,  86.45352 ,  85.5093  ,  84.56486 ,\n",
       "        83.620285,  82.67563 ,  81.73093 ,  80.78619 ,  79.841415,  78.89663 ,\n",
       "        77.95183 ,  77.00702 ,  76.062195,  75.11737 ,  74.17253 ,  73.22769 ,\n",
       "        72.282845,  71.338   ,  70.39315 ,  69.448296,  68.50343 ,  67.55858 ,\n",
       "        66.613716,  65.66885 ,  64.72399 ,  63.779125,  62.834263,  61.889393,\n",
       "        60.944527,  59.999657,  59.05479 ,  58.10992 ,  57.165047,  56.220177,\n",
       "        55.275307,  54.330433,  53.385563,  52.44069 ,  51.495815,  50.55094 ,\n",
       "        49.606068,  48.661194,  47.71632 ,  46.771442,  45.82657 ,  44.881695,\n",
       "        43.936817,  42.991943,  42.047066,  41.102192,  40.157314,  39.212437,\n",
       "        38.26756 ,  37.322685,  36.377808,  35.43293 ,  34.488052,  33.543175,\n",
       "        32.598297,  31.653421,  30.708544,  29.763666,  28.818789,  27.87391 ,\n",
       "        26.929033,  25.984156,  25.039278,  24.0944  ,  23.149523,  22.204643,\n",
       "        21.259766,  20.314888,  19.370008,  18.42513 ,  17.480253,  16.535374,\n",
       "        15.590496,  14.645617,  13.700739,  12.755861,  11.810983,  10.866104,\n",
       "         9.921226,   8.976347,   8.031468,   7.08659 ,   6.141711,   5.196833,\n",
       "         4.251954,   3.307075,   2.362197,   1.417318,   0.472439,  -0.472439,\n",
       "        -1.417318,  -2.362197,  -3.307075,  -4.251954,  -5.196833,  -6.141711,\n",
       "        -7.08659 ,  -8.031468,  -8.976347,  -9.921226, -10.866104, -11.810983,\n",
       "       -12.755861, -13.700739, -14.645617, -15.590496, -16.535374, -17.480253,\n",
       "       -18.42513 , -19.370008, -20.314888, -21.259766, -22.204643, -23.149523,\n",
       "       -24.0944  , -25.039278, -25.984156, -26.929033, -27.87391 , -28.818789,\n",
       "       -29.763666, -30.708544, -31.653421, -32.598297, -33.543175, -34.488052,\n",
       "       -35.43293 , -36.377808, -37.322685, -38.26756 , -39.212437, -40.157314,\n",
       "       -41.102192, -42.047066, -42.991943, -43.936817, -44.881695, -45.82657 ,\n",
       "       -46.771442, -47.71632 , -48.661194, -49.606068, -50.55094 , -51.495815,\n",
       "       -52.44069 , -53.385563, -54.330433, -55.275307, -56.220177, -57.165047,\n",
       "       -58.10992 , -59.05479 , -59.999657, -60.944527, -61.889393, -62.834263,\n",
       "       -63.779125, -64.72399 , -65.66885 , -66.613716, -67.55858 , -68.50343 ,\n",
       "       -69.448296, -70.39315 , -71.338   , -72.282845, -73.22769 , -74.17253 ,\n",
       "       -75.11737 , -76.062195, -77.00702 , -77.95183 , -78.89663 , -79.841415,\n",
       "       -80.78619 , -81.73093 , -82.67563 , -83.620285, -84.56486 , -85.5093  ,\n",
       "       -86.45352 , -87.39726 , -88.33975 , -89.27671 ], dtype=float32)</pre></li><li class='xr-var-item'><div class='xr-var-name'><span class='xr-has-index'>lon</span></div><div class='xr-var-dims'>(lon)</div><div class='xr-var-dtype'>float32</div><div class='xr-var-preview xr-preview'>0.0 0.93749875 ... 358.1245 359.062</div><input id='attrs-bc75e9f1-acc9-4321-bf06-9290df7b6492' class='xr-var-attrs-in' type='checkbox' ><label for='attrs-bc75e9f1-acc9-4321-bf06-9290df7b6492' title='Show/Hide attributes'><svg class='icon xr-icon-file-text2'><use xlink:href='#icon-file-text2'></use></svg></label><input id='data-5e06afb3-e17e-4481-a2cf-320af9308a6b' class='xr-var-data-in' type='checkbox'><label for='data-5e06afb3-e17e-4481-a2cf-320af9308a6b' title='Show/Hide data repr'><svg class='icon xr-icon-database'><use xlink:href='#icon-database'></use></svg></label><div class='xr-var-attrs'><dl class='xr-attrs'><dt><span>units :</span></dt><dd>degrees_east</dd></dl></div><pre class='xr-var-data'>array([  0.      ,   0.937499,   1.874997, ..., 357.187   , 358.1245  ,\n",
       "       359.062   ], dtype=float32)</pre></li><li class='xr-var-item'><div class='xr-var-name'><span>reftime</span></div><div class='xr-var-dims'>()</div><div class='xr-var-dtype'>datetime64[ns]</div><div class='xr-var-preview xr-preview'>...</div><input id='attrs-e2bddb8d-691a-4f13-a189-d1dfafc5c440' class='xr-var-attrs-in' type='checkbox' ><label for='attrs-e2bddb8d-691a-4f13-a189-d1dfafc5c440' title='Show/Hide attributes'><svg class='icon xr-icon-file-text2'><use xlink:href='#icon-file-text2'></use></svg></label><input id='data-06f97e94-7af0-4b63-ba63-1c2013040acb' class='xr-var-data-in' type='checkbox'><label for='data-06f97e94-7af0-4b63-ba63-1c2013040acb' title='Show/Hide data repr'><svg class='icon xr-icon-database'><use xlink:href='#icon-database'></use></svg></label><div class='xr-var-attrs'><dl class='xr-attrs'><dt><span>standard_name :</span></dt><dd>forecast_reference_time</dd><dt><span>long_name :</span></dt><dd>GRIB reference time</dd></dl></div><pre class='xr-var-data'>array(&#x27;2009-12-01T06:00:00.000000000&#x27;, dtype=&#x27;datetime64[ns]&#x27;)</pre></li><li class='xr-var-item'><div class='xr-var-name'><span class='xr-has-index'>time</span></div><div class='xr-var-dims'>(time)</div><div class='xr-var-dtype'>datetime64[ns]</div><div class='xr-var-preview xr-preview'>2009-12-01T12:00:00 ... 2010-01-15T06:00:00</div><input id='attrs-600cb687-c793-449d-8acc-5d06f77512ce' class='xr-var-attrs-in' type='checkbox' ><label for='attrs-600cb687-c793-449d-8acc-5d06f77512ce' title='Show/Hide attributes'><svg class='icon xr-icon-file-text2'><use xlink:href='#icon-file-text2'></use></svg></label><input id='data-68a54612-3dd8-4ab3-bf39-c8d62ec4bb2e' class='xr-var-data-in' type='checkbox'><label for='data-68a54612-3dd8-4ab3-bf39-c8d62ec4bb2e' title='Show/Hide data repr'><svg class='icon xr-icon-database'><use xlink:href='#icon-database'></use></svg></label><div class='xr-var-attrs'><dl class='xr-attrs'><dt><span>standard_name :</span></dt><dd>time</dd><dt><span>long_name :</span></dt><dd>GRIB forecast or observation time</dd></dl></div><pre class='xr-var-data'>array([&#x27;2009-12-01T12:00:00.000000000&#x27;, &#x27;2009-12-01T18:00:00.000000000&#x27;,\n",
       "       &#x27;2009-12-02T00:00:00.000000000&#x27;, &#x27;2009-12-02T06:00:00.000000000&#x27;,\n",
       "       &#x27;2009-12-02T12:00:00.000000000&#x27;, &#x27;2009-12-02T18:00:00.000000000&#x27;,\n",
       "       &#x27;2009-12-03T00:00:00.000000000&#x27;, &#x27;2009-12-03T06:00:00.000000000&#x27;,\n",
       "       &#x27;2009-12-03T12:00:00.000000000&#x27;, &#x27;2009-12-03T18:00:00.000000000&#x27;,\n",
       "       &#x27;2009-12-04T00:00:00.000000000&#x27;, &#x27;2009-12-04T06:00:00.000000000&#x27;,\n",
       "       &#x27;2009-12-04T12:00:00.000000000&#x27;, &#x27;2009-12-04T18:00:00.000000000&#x27;,\n",
       "       &#x27;2009-12-05T00:00:00.000000000&#x27;, &#x27;2009-12-05T06:00:00.000000000&#x27;,\n",
       "       &#x27;2009-12-05T12:00:00.000000000&#x27;, &#x27;2009-12-05T18:00:00.000000000&#x27;,\n",
       "       &#x27;2009-12-06T00:00:00.000000000&#x27;, &#x27;2009-12-06T06:00:00.000000000&#x27;,\n",
       "       &#x27;2009-12-06T12:00:00.000000000&#x27;, &#x27;2009-12-06T18:00:00.000000000&#x27;,\n",
       "       &#x27;2009-12-07T00:00:00.000000000&#x27;, &#x27;2009-12-07T06:00:00.000000000&#x27;,\n",
       "       &#x27;2009-12-07T12:00:00.000000000&#x27;, &#x27;2009-12-07T18:00:00.000000000&#x27;,\n",
       "       &#x27;2009-12-08T00:00:00.000000000&#x27;, &#x27;2009-12-08T06:00:00.000000000&#x27;,\n",
       "       &#x27;2009-12-08T12:00:00.000000000&#x27;, &#x27;2009-12-08T18:00:00.000000000&#x27;,\n",
       "       &#x27;2009-12-09T00:00:00.000000000&#x27;, &#x27;2009-12-09T06:00:00.000000000&#x27;,\n",
       "       &#x27;2009-12-09T12:00:00.000000000&#x27;, &#x27;2009-12-09T18:00:00.000000000&#x27;,\n",
       "       &#x27;2009-12-10T00:00:00.000000000&#x27;, &#x27;2009-12-10T06:00:00.000000000&#x27;,\n",
       "       &#x27;2009-12-10T12:00:00.000000000&#x27;, &#x27;2009-12-10T18:00:00.000000000&#x27;,\n",
       "       &#x27;2009-12-11T00:00:00.000000000&#x27;, &#x27;2009-12-11T06:00:00.000000000&#x27;,\n",
       "       &#x27;2009-12-11T12:00:00.000000000&#x27;, &#x27;2009-12-11T18:00:00.000000000&#x27;,\n",
       "       &#x27;2009-12-12T00:00:00.000000000&#x27;, &#x27;2009-12-12T06:00:00.000000000&#x27;,\n",
       "       &#x27;2009-12-12T12:00:00.000000000&#x27;, &#x27;2009-12-12T18:00:00.000000000&#x27;,\n",
       "       &#x27;2009-12-13T00:00:00.000000000&#x27;, &#x27;2009-12-13T06:00:00.000000000&#x27;,\n",
       "       &#x27;2009-12-13T12:00:00.000000000&#x27;, &#x27;2009-12-13T18:00:00.000000000&#x27;,\n",
       "       &#x27;2009-12-14T00:00:00.000000000&#x27;, &#x27;2009-12-14T06:00:00.000000000&#x27;,\n",
       "       &#x27;2009-12-14T12:00:00.000000000&#x27;, &#x27;2009-12-14T18:00:00.000000000&#x27;,\n",
       "       &#x27;2009-12-15T00:00:00.000000000&#x27;, &#x27;2009-12-15T06:00:00.000000000&#x27;,\n",
       "       &#x27;2009-12-15T12:00:00.000000000&#x27;, &#x27;2009-12-15T18:00:00.000000000&#x27;,\n",
       "       &#x27;2009-12-16T00:00:00.000000000&#x27;, &#x27;2009-12-16T06:00:00.000000000&#x27;,\n",
       "       &#x27;2009-12-16T12:00:00.000000000&#x27;, &#x27;2009-12-16T18:00:00.000000000&#x27;,\n",
       "       &#x27;2009-12-17T00:00:00.000000000&#x27;, &#x27;2009-12-17T06:00:00.000000000&#x27;,\n",
       "       &#x27;2009-12-17T12:00:00.000000000&#x27;, &#x27;2009-12-17T18:00:00.000000000&#x27;,\n",
       "       &#x27;2009-12-18T00:00:00.000000000&#x27;, &#x27;2009-12-18T06:00:00.000000000&#x27;,\n",
       "       &#x27;2009-12-18T12:00:00.000000000&#x27;, &#x27;2009-12-18T18:00:00.000000000&#x27;,\n",
       "       &#x27;2009-12-19T00:00:00.000000000&#x27;, &#x27;2009-12-19T06:00:00.000000000&#x27;,\n",
       "       &#x27;2009-12-19T12:00:00.000000000&#x27;, &#x27;2009-12-19T18:00:00.000000000&#x27;,\n",
       "       &#x27;2009-12-20T00:00:00.000000000&#x27;, &#x27;2009-12-20T06:00:00.000000000&#x27;,\n",
       "       &#x27;2009-12-20T12:00:00.000000000&#x27;, &#x27;2009-12-20T18:00:00.000000000&#x27;,\n",
       "       &#x27;2009-12-21T00:00:00.000000000&#x27;, &#x27;2009-12-21T06:00:00.000000000&#x27;,\n",
       "       &#x27;2009-12-21T12:00:00.000000000&#x27;, &#x27;2009-12-21T18:00:00.000000000&#x27;,\n",
       "       &#x27;2009-12-22T00:00:00.000000000&#x27;, &#x27;2009-12-22T06:00:00.000000000&#x27;,\n",
       "       &#x27;2009-12-22T12:00:00.000000000&#x27;, &#x27;2009-12-22T18:00:00.000000000&#x27;,\n",
       "       &#x27;2009-12-23T00:00:00.000000000&#x27;, &#x27;2009-12-23T06:00:00.000000000&#x27;,\n",
       "       &#x27;2009-12-23T12:00:00.000000000&#x27;, &#x27;2009-12-23T18:00:00.000000000&#x27;,\n",
       "       &#x27;2009-12-24T00:00:00.000000000&#x27;, &#x27;2009-12-24T06:00:00.000000000&#x27;,\n",
       "       &#x27;2009-12-24T12:00:00.000000000&#x27;, &#x27;2009-12-24T18:00:00.000000000&#x27;,\n",
       "       &#x27;2009-12-25T00:00:00.000000000&#x27;, &#x27;2009-12-25T06:00:00.000000000&#x27;,\n",
       "       &#x27;2009-12-25T12:00:00.000000000&#x27;, &#x27;2009-12-25T18:00:00.000000000&#x27;,\n",
       "       &#x27;2009-12-26T00:00:00.000000000&#x27;, &#x27;2009-12-26T06:00:00.000000000&#x27;,\n",
       "       &#x27;2009-12-26T12:00:00.000000000&#x27;, &#x27;2009-12-26T18:00:00.000000000&#x27;,\n",
       "       &#x27;2009-12-27T00:00:00.000000000&#x27;, &#x27;2009-12-27T06:00:00.000000000&#x27;,\n",
       "       &#x27;2009-12-27T12:00:00.000000000&#x27;, &#x27;2009-12-27T18:00:00.000000000&#x27;,\n",
       "       &#x27;2009-12-28T00:00:00.000000000&#x27;, &#x27;2009-12-28T06:00:00.000000000&#x27;,\n",
       "       &#x27;2009-12-28T12:00:00.000000000&#x27;, &#x27;2009-12-28T18:00:00.000000000&#x27;,\n",
       "       &#x27;2009-12-29T00:00:00.000000000&#x27;, &#x27;2009-12-29T06:00:00.000000000&#x27;,\n",
       "       &#x27;2009-12-29T12:00:00.000000000&#x27;, &#x27;2009-12-29T18:00:00.000000000&#x27;,\n",
       "       &#x27;2009-12-30T00:00:00.000000000&#x27;, &#x27;2009-12-30T06:00:00.000000000&#x27;,\n",
       "       &#x27;2009-12-30T12:00:00.000000000&#x27;, &#x27;2009-12-30T18:00:00.000000000&#x27;,\n",
       "       &#x27;2009-12-31T00:00:00.000000000&#x27;, &#x27;2009-12-31T06:00:00.000000000&#x27;,\n",
       "       &#x27;2009-12-31T12:00:00.000000000&#x27;, &#x27;2009-12-31T18:00:00.000000000&#x27;,\n",
       "       &#x27;2010-01-01T00:00:00.000000000&#x27;, &#x27;2010-01-01T06:00:00.000000000&#x27;,\n",
       "       &#x27;2010-01-01T12:00:00.000000000&#x27;, &#x27;2010-01-01T18:00:00.000000000&#x27;,\n",
       "       &#x27;2010-01-02T00:00:00.000000000&#x27;, &#x27;2010-01-02T06:00:00.000000000&#x27;,\n",
       "       &#x27;2010-01-02T12:00:00.000000000&#x27;, &#x27;2010-01-02T18:00:00.000000000&#x27;,\n",
       "       &#x27;2010-01-03T00:00:00.000000000&#x27;, &#x27;2010-01-03T06:00:00.000000000&#x27;,\n",
       "       &#x27;2010-01-03T12:00:00.000000000&#x27;, &#x27;2010-01-03T18:00:00.000000000&#x27;,\n",
       "       &#x27;2010-01-04T00:00:00.000000000&#x27;, &#x27;2010-01-04T06:00:00.000000000&#x27;,\n",
       "       &#x27;2010-01-04T12:00:00.000000000&#x27;, &#x27;2010-01-04T18:00:00.000000000&#x27;,\n",
       "       &#x27;2010-01-05T00:00:00.000000000&#x27;, &#x27;2010-01-05T06:00:00.000000000&#x27;,\n",
       "       &#x27;2010-01-05T12:00:00.000000000&#x27;, &#x27;2010-01-05T18:00:00.000000000&#x27;,\n",
       "       &#x27;2010-01-06T00:00:00.000000000&#x27;, &#x27;2010-01-06T06:00:00.000000000&#x27;,\n",
       "       &#x27;2010-01-06T12:00:00.000000000&#x27;, &#x27;2010-01-06T18:00:00.000000000&#x27;,\n",
       "       &#x27;2010-01-07T00:00:00.000000000&#x27;, &#x27;2010-01-07T06:00:00.000000000&#x27;,\n",
       "       &#x27;2010-01-07T12:00:00.000000000&#x27;, &#x27;2010-01-07T18:00:00.000000000&#x27;,\n",
       "       &#x27;2010-01-08T00:00:00.000000000&#x27;, &#x27;2010-01-08T06:00:00.000000000&#x27;,\n",
       "       &#x27;2010-01-08T12:00:00.000000000&#x27;, &#x27;2010-01-08T18:00:00.000000000&#x27;,\n",
       "       &#x27;2010-01-09T00:00:00.000000000&#x27;, &#x27;2010-01-09T06:00:00.000000000&#x27;,\n",
       "       &#x27;2010-01-09T12:00:00.000000000&#x27;, &#x27;2010-01-09T18:00:00.000000000&#x27;,\n",
       "       &#x27;2010-01-10T00:00:00.000000000&#x27;, &#x27;2010-01-10T06:00:00.000000000&#x27;,\n",
       "       &#x27;2010-01-10T12:00:00.000000000&#x27;, &#x27;2010-01-10T18:00:00.000000000&#x27;,\n",
       "       &#x27;2010-01-11T00:00:00.000000000&#x27;, &#x27;2010-01-11T06:00:00.000000000&#x27;,\n",
       "       &#x27;2010-01-11T12:00:00.000000000&#x27;, &#x27;2010-01-11T18:00:00.000000000&#x27;,\n",
       "       &#x27;2010-01-12T00:00:00.000000000&#x27;, &#x27;2010-01-12T06:00:00.000000000&#x27;,\n",
       "       &#x27;2010-01-12T12:00:00.000000000&#x27;, &#x27;2010-01-12T18:00:00.000000000&#x27;,\n",
       "       &#x27;2010-01-13T00:00:00.000000000&#x27;, &#x27;2010-01-13T06:00:00.000000000&#x27;,\n",
       "       &#x27;2010-01-13T12:00:00.000000000&#x27;, &#x27;2010-01-13T18:00:00.000000000&#x27;,\n",
       "       &#x27;2010-01-14T00:00:00.000000000&#x27;, &#x27;2010-01-14T06:00:00.000000000&#x27;,\n",
       "       &#x27;2010-01-14T12:00:00.000000000&#x27;, &#x27;2010-01-14T18:00:00.000000000&#x27;,\n",
       "       &#x27;2010-01-15T00:00:00.000000000&#x27;, &#x27;2010-01-15T06:00:00.000000000&#x27;],\n",
       "      dtype=&#x27;datetime64[ns]&#x27;)</pre></li></ul></div></li><li class='xr-section-item'><input id='section-7087cabd-420c-44f2-beab-0a963c78066c' class='xr-section-summary-in' type='checkbox'  checked><label for='section-7087cabd-420c-44f2-beab-0a963c78066c' class='xr-section-summary' >Data variables: <span>(2)</span></label><div class='xr-section-inline-details'></div><div class='xr-section-details'><ul class='xr-var-list'><li class='xr-var-item'><div class='xr-var-name'><span>GaussLatLon_Projection</span></div><div class='xr-var-dims'>()</div><div class='xr-var-dtype'>int32</div><div class='xr-var-preview xr-preview'>...</div><input id='attrs-c2c24c05-87ca-4b08-94c9-e52fdee36196' class='xr-var-attrs-in' type='checkbox' ><label for='attrs-c2c24c05-87ca-4b08-94c9-e52fdee36196' title='Show/Hide attributes'><svg class='icon xr-icon-file-text2'><use xlink:href='#icon-file-text2'></use></svg></label><input id='data-563d823a-8bb8-4d7d-bf22-7f69e27f5c7f' class='xr-var-data-in' type='checkbox'><label for='data-563d823a-8bb8-4d7d-bf22-7f69e27f5c7f' title='Show/Hide data repr'><svg class='icon xr-icon-database'><use xlink:href='#icon-database'></use></svg></label><div class='xr-var-attrs'><dl class='xr-attrs'><dt><span>grid_mapping_name :</span></dt><dd>latitude_longitude</dd><dt><span>earth_radius :</span></dt><dd>6371229.0</dd></dl></div><pre class='xr-var-data'>array(0)</pre></li><li class='xr-var-item'><div class='xr-var-name'><span>Temperature_surface</span></div><div class='xr-var-dims'>(time, lat, lon)</div><div class='xr-var-dtype'>float32</div><div class='xr-var-preview xr-preview'>...</div><input id='attrs-774ac2b9-ced6-4f9a-b815-4031791ae7c2' class='xr-var-attrs-in' type='checkbox' ><label for='attrs-774ac2b9-ced6-4f9a-b815-4031791ae7c2' title='Show/Hide attributes'><svg class='icon xr-icon-file-text2'><use xlink:href='#icon-file-text2'></use></svg></label><input id='data-cc4362a0-6c9c-459e-a980-4195a075a841' class='xr-var-data-in' type='checkbox'><label for='data-cc4362a0-6c9c-459e-a980-4195a075a841' title='Show/Hide data repr'><svg class='icon xr-icon-database'><use xlink:href='#icon-database'></use></svg></label><div class='xr-var-attrs'><dl class='xr-attrs'><dt><span>long_name :</span></dt><dd>Temperature @ Ground or water surface</dd><dt><span>units :</span></dt><dd>K</dd><dt><span>abbreviation :</span></dt><dd>TMP</dd><dt><span>grid_mapping :</span></dt><dd>GaussLatLon_Projection</dd><dt><span>Grib_Variable_Id :</span></dt><dd>VAR_0-0-0_L1</dd><dt><span>Grib2_Parameter :</span></dt><dd>[0 0 0]</dd><dt><span>Grib2_Parameter_Discipline :</span></dt><dd>Meteorological products</dd><dt><span>Grib2_Parameter_Category :</span></dt><dd>Temperature</dd><dt><span>Grib2_Parameter_Name :</span></dt><dd>Temperature</dd><dt><span>Grib2_Level_Type :</span></dt><dd>1</dd><dt><span>Grib2_Level_Desc :</span></dt><dd>Ground or water surface</dd><dt><span>Grib2_Generating_Process_Type :</span></dt><dd>Forecast</dd></dl></div><pre class='xr-var-data'>[13132800 values with dtype=float32]</pre></li></ul></div></li><li class='xr-section-item'><input id='section-d53c1521-a2f1-4f5a-b5ad-081846125ed6' class='xr-section-summary-in' type='checkbox'  checked><label for='section-d53c1521-a2f1-4f5a-b5ad-081846125ed6' class='xr-section-summary' >Attributes: <span>(9)</span></label><div class='xr-section-inline-details'></div><div class='xr-section-details'><dl class='xr-attrs'><dt><span>Originating_or_generating_Center :</span></dt><dd>US National Weather Service, National Centres for Environmental Prediction (NCEP)</dd><dt><span>Originating_or_generating_Subcenter :</span></dt><dd>0</dd><dt><span>GRIB_table_version :</span></dt><dd>2,1</dd><dt><span>Type_of_generating_process :</span></dt><dd>Forecast</dd><dt><span>Analysis_or_forecast_generating_process_identifier_defined_by_originating_centre :</span></dt><dd>Analysis from GDAS (Global Data Assimilation System)</dd><dt><span>file_format :</span></dt><dd>GRIB-2</dd><dt><span>Conventions :</span></dt><dd>CF-1.6</dd><dt><span>history :</span></dt><dd>Read using CDM IOSP GribCollection v3</dd><dt><span>featureType :</span></dt><dd>GRID</dd></dl></div></li></ul></div></div>"
      ],
      "text/plain": [
       "<xarray.Dataset>\n",
       "Dimensions:                 (lat: 190, lon: 384, time: 180)\n",
       "Coordinates:\n",
       "  * lat                     (lat) float32 89.27671 88.33975 ... -89.27671\n",
       "  * lon                     (lon) float32 0.0 0.93749875 ... 358.1245 359.062\n",
       "    reftime                 datetime64[ns] ...\n",
       "  * time                    (time) datetime64[ns] 2009-12-01T12:00:00 ... 2010-01-15T06:00:00\n",
       "Data variables:\n",
       "    GaussLatLon_Projection  int32 ...\n",
       "    Temperature_surface     (time, lat, lon) float32 ...\n",
       "Attributes:\n",
       "    Originating_or_generating_Center:                                        ...\n",
       "    Originating_or_generating_Subcenter:                                     ...\n",
       "    GRIB_table_version:                                                      ...\n",
       "    Type_of_generating_process:                                              ...\n",
       "    Analysis_or_forecast_generating_process_identifier_defined_by_originating...\n",
       "    file_format:                                                             ...\n",
       "    Conventions:                                                             ...\n",
       "    history:                                                                 ...\n",
       "    featureType:                                                             ..."
      ]
     },
     "execution_count": 23,
     "metadata": {},
     "output_type": "execute_result"
    }
   ],
   "source": [
    "data"
   ]
  },
  {
   "cell_type": "markdown",
   "metadata": {
    "slideshow": {
     "slide_type": "subslide"
    }
   },
   "source": [
    "Instead of accessing the dataset by name or position, we can also ask the collection of datasets to parse the filenames as datetimes and find:\n",
    "- those within a range\n",
    "- those closest to a time"
   ]
  },
  {
   "cell_type": "code",
   "execution_count": 13,
   "metadata": {},
   "outputs": [],
   "source": [
    "from datetime import datetime, timedelta"
   ]
  },
  {
   "cell_type": "code",
   "execution_count": 12,
   "metadata": {},
   "outputs": [
    {
     "data": {
      "text/plain": [
       "['WEST-CONUS_4km_3.9_20170725_1456.gini',\n",
       " 'WEST-CONUS_4km_3.9_20170725_1454.gini',\n",
       " 'WEST-CONUS_4km_3.9_20170725_1452.gini',\n",
       " 'WEST-CONUS_4km_3.9_20170725_1445.gini',\n",
       " 'WEST-CONUS_4km_3.9_20170725_1440.gini',\n",
       " 'WEST-CONUS_4km_3.9_20170725_1430.gini',\n",
       " 'WEST-CONUS_4km_3.9_20170725_1422.gini',\n",
       " 'WEST-CONUS_4km_3.9_20170725_1415.gini',\n",
       " 'WEST-CONUS_4km_3.9_20170725_1410.gini']"
      ]
     },
     "execution_count": 12,
     "metadata": {},
     "output_type": "execute_result"
    }
   ],
   "source": [
    "# Look for all data within the last hour\n",
    "now = datetime.utcnow()\n",
    "l = sat_cat.datasets.filter_time_range(start=now - timedelta(hours=1),\n",
    "                                       end=now)\n",
    "[ds.name for ds in l]"
   ]
  },
  {
   "cell_type": "markdown",
   "metadata": {},
   "source": [
    "In this case, the filter resulted in a list of `Dataset` handles. If we look instead for the nearest to a time, we get a single `Dataset` handle:"
   ]
  },
  {
   "cell_type": "code",
   "execution_count": 13,
   "metadata": {
    "slideshow": {
     "slide_type": "subslide"
    }
   },
   "outputs": [
    {
     "data": {
      "text/plain": [
       "'WEST-CONUS_4km_3.9_20170725_1410.gini'"
      ]
     },
     "execution_count": 13,
     "metadata": {},
     "output_type": "execute_result"
    }
   ],
   "source": [
    "# Look for data from an hour ago\n",
    "dt = datetime.utcnow() - timedelta(hours=1)\n",
    "ds = sat_cat.datasets.filter_time_nearest(dt)\n",
    "ds.name"
   ]
  },
  {
   "cell_type": "markdown",
   "metadata": {},
   "source": [
    "We can use the dataset handle to look at the available access methods:"
   ]
  },
  {
   "cell_type": "code",
   "execution_count": 14,
   "metadata": {
    "slideshow": {
     "slide_type": "subslide"
    }
   },
   "outputs": [
    {
     "data": {
      "text/plain": [
       "{'CdmRemote': 'http://thredds.ucar.edu/thredds/cdmremote/satellite/3.9/WEST-CONUS_4km/current/WEST-CONUS_4km_3.9_20170725_1410.gini',\n",
       " 'HTTPServer': 'http://thredds.ucar.edu/thredds/fileServer/satellite/3.9/WEST-CONUS_4km/current/WEST-CONUS_4km_3.9_20170725_1410.gini',\n",
       " 'ISO': 'http://thredds.ucar.edu/thredds/iso/satellite/3.9/WEST-CONUS_4km/current/WEST-CONUS_4km_3.9_20170725_1410.gini',\n",
       " 'NCML': 'http://thredds.ucar.edu/thredds/ncml/satellite/3.9/WEST-CONUS_4km/current/WEST-CONUS_4km_3.9_20170725_1410.gini',\n",
       " 'NetcdfSubset': 'http://thredds.ucar.edu/thredds/ncss/satellite/3.9/WEST-CONUS_4km/current/WEST-CONUS_4km_3.9_20170725_1410.gini',\n",
       " 'OPENDAP': 'http://thredds.ucar.edu/thredds/dodsC/satellite/3.9/WEST-CONUS_4km/current/WEST-CONUS_4km_3.9_20170725_1410.gini',\n",
       " 'UDDC': 'http://thredds.ucar.edu/thredds/uddc/satellite/3.9/WEST-CONUS_4km/current/WEST-CONUS_4km_3.9_20170725_1410.gini',\n",
       " 'WCS': 'http://thredds.ucar.edu/thredds/wcs/satellite/3.9/WEST-CONUS_4km/current/WEST-CONUS_4km_3.9_20170725_1410.gini',\n",
       " 'WMS': 'http://thredds.ucar.edu/thredds/wms/satellite/3.9/WEST-CONUS_4km/current/WEST-CONUS_4km_3.9_20170725_1410.gini'}"
      ]
     },
     "execution_count": 14,
     "metadata": {},
     "output_type": "execute_result"
    }
   ],
   "source": [
    "ds.access_urls"
   ]
  },
  {
   "cell_type": "markdown",
   "metadata": {},
   "source": [
    "## Putting it together\n",
    "\n",
    "How would we use this? Let's say we wanted to write a script to download the latest global run of the Wave Watch 3 model (WW3), and plot the output. So far, we have enough to get to the proper dataset:"
   ]
  },
  {
   "cell_type": "code",
   "execution_count": 15,
   "metadata": {},
   "outputs": [
    {
     "name": "stdout",
     "output_type": "stream",
     "text": [
      "WW3_Global_20170725_0600.grib2\n",
      "{'WCS': 'http://thredds.ucar.edu/thredds/wcs/grib/NCEP/WW3/Global/WW3_Global_20170725_0600.grib2', 'WMS': 'http://thredds.ucar.edu/thredds/wms/grib/NCEP/WW3/Global/WW3_Global_20170725_0600.grib2', 'NCML': 'http://thredds.ucar.edu/thredds/ncml/grib/NCEP/WW3/Global/WW3_Global_20170725_0600.grib2', 'UDDC': 'http://thredds.ucar.edu/thredds/uddc/grib/NCEP/WW3/Global/WW3_Global_20170725_0600.grib2', 'OPENDAP': 'http://thredds.ucar.edu/thredds/dodsC/grib/NCEP/WW3/Global/WW3_Global_20170725_0600.grib2', 'ISO': 'http://thredds.ucar.edu/thredds/iso/grib/NCEP/WW3/Global/WW3_Global_20170725_0600.grib2', 'HTTPServer': 'http://thredds.ucar.edu/thredds/fileServer/grib/NCEP/WW3/Global/WW3_Global_20170725_0600.grib2', 'NetcdfSubset': 'http://thredds.ucar.edu/thredds/ncss/grib/NCEP/WW3/Global/WW3_Global_20170725_0600.grib2', 'CdmRemote': 'http://thredds.ucar.edu/thredds/cdmremote/grib/NCEP/WW3/Global/WW3_Global_20170725_0600.grib2'}\n"
     ]
    }
   ],
   "source": [
    "top_cat = TDSCatalog('http://thredds.ucar.edu/thredds/catalog.xml')\n",
    "models_cat = top_cat.catalog_refs[0].follow()\n",
    "ww3_cat = models_cat.catalog_refs['Wave Watch III Global'].follow()\n",
    "latest_ww3 = ww3_cat.latest\n",
    "print(latest_ww3.name)\n",
    "print(latest_ww3.access_urls)"
   ]
  },
  {
   "cell_type": "markdown",
   "metadata": {
    "jupyter": {
     "source_hidden": true
    },
    "slideshow": {
     "slide_type": "subslide"
    }
   },
   "source": [
    "## Exercise #1\n",
    "1. Using Siphon, navigate from the top-level THREDDS catalog at https://nomads.ncdc.noaa.gov/thredds/catalog.xml to the 3-hour NARR-A data from January 5th, 2014 (or another product or time of interest)\n",
    "1. Using Siphon, compare the available access methods (on http://thredds.ucar.edu) for:\n",
    "  - The \"Best GFS Quarter Degree Forecast Time Series\" (under \"Forecast Model Data\")\n",
    "  - A data file of \"NEXRAD Level II Radar WSR-88D\" (under \"Radar Data\")"
   ]
  },
  {
   "cell_type": "code",
   "execution_count": 16,
   "metadata": {
    "slideshow": {
     "slide_type": "subslide"
    }
   },
   "outputs": [],
   "source": [
    "# Start here\n",
    "top_cat = TDSCatalog('https://nomads.ncdc.noaa.gov/thredds/catalog.xml')"
   ]
  },
  {
   "cell_type": "markdown",
   "metadata": {
    "slideshow": {
     "slide_type": "slide"
    }
   },
   "source": [
    "# Accessing data using Siphon\n",
    "Accessing catalogs is only part of the story; Siphon is much more useful if you're trying to access/download datasets."
   ]
  },
  {
   "cell_type": "markdown",
   "metadata": {
    "slideshow": {
     "slide_type": "subslide"
    }
   },
   "source": [
    "For instance going back to our satellite data from earlier:"
   ]
  },
  {
   "cell_type": "code",
   "execution_count": 17,
   "metadata": {},
   "outputs": [],
   "source": [
    "# Same as before\n",
    "cat = TDSCatalog('http://thredds.ucar.edu/thredds/catalog/'\n",
    "                'satellite/3.9/WEST-CONUS_4km/current/'\n",
    "                'catalog.xml')\n",
    "ds = cat.datasets.filter_time_nearest(datetime.utcnow()\n",
    "                                      - timedelta(hours=1))"
   ]
  },
  {
   "cell_type": "markdown",
   "metadata": {
    "slideshow": {
     "slide_type": "fragment"
    }
   },
   "source": [
    "We can ask Siphon to download the file locally:"
   ]
  },
  {
   "cell_type": "code",
   "execution_count": 18,
   "metadata": {},
   "outputs": [],
   "source": [
    "ds.download('data.gini')"
   ]
  },
  {
   "cell_type": "markdown",
   "metadata": {
    "slideshow": {
     "slide_type": "subslide"
    }
   },
   "source": [
    "Or better yet, get a file-like object that lets us `read` from the file as if it were local:"
   ]
  },
  {
   "cell_type": "code",
   "execution_count": 19,
   "metadata": {},
   "outputs": [],
   "source": [
    "fobj = ds.remote_open()\n",
    "data = fobj.read()"
   ]
  },
  {
   "cell_type": "markdown",
   "metadata": {},
   "source": [
    "This is handy if you have Python code to read a particular format."
   ]
  },
  {
   "cell_type": "markdown",
   "metadata": {
    "slideshow": {
     "slide_type": "subslide"
    }
   },
   "source": [
    "It's also possible to get access to the file through services that provide netCDF4-like access, but for the remote file. This access allows downloading information only for variables of interest, or for (index-based) subsets of that data:"
   ]
  },
  {
   "cell_type": "code",
   "execution_count": 20,
   "metadata": {},
   "outputs": [],
   "source": [
    "nc = ds.remote_access()"
   ]
  },
  {
   "cell_type": "markdown",
   "metadata": {},
   "source": [
    "By default this uses CDMRemote (if available), but it's also possible to ask for OPeNDAP (using netCDF4-python)."
   ]
  },
  {
   "cell_type": "markdown",
   "metadata": {
    "slideshow": {
     "slide_type": "subslide"
    }
   },
   "source": [
    "From here we can see what variables are available:"
   ]
  },
  {
   "cell_type": "code",
   "execution_count": 21,
   "metadata": {},
   "outputs": [
    {
     "data": {
      "text/plain": [
       "['time', 'IR', 'x', 'y', 'LambertConformal']"
      ]
     },
     "execution_count": 21,
     "metadata": {},
     "output_type": "execute_result"
    }
   ],
   "source": [
    "list(nc.variables)"
   ]
  },
  {
   "cell_type": "markdown",
   "metadata": {
    "slideshow": {
     "slide_type": "subslide"
    }
   },
   "source": [
    "Or get a subset of the values:"
   ]
  },
  {
   "cell_type": "code",
   "execution_count": 22,
   "metadata": {},
   "outputs": [
    {
     "data": {
      "text/plain": [
       "<matplotlib.image.AxesImage at 0x7fd9200f6470>"
      ]
     },
     "execution_count": 22,
     "metadata": {},
     "output_type": "execute_result"
    },
    {
     "data": {
      "image/png": "[encoded data removed]",
      "text/plain": [
       "<matplotlib.figure.Figure at 0x7fd91a3fa4a8>"
      ]
     },
     "metadata": {},
     "output_type": "display_data"
    }
   ],
   "source": [
    "# Plot small sample image\n",
    "%matplotlib inline\n",
    "import matplotlib.pyplot as plt\n",
    "fig, ax = plt.subplots(1, 1, figsize=(6, 6))\n",
    "ax.imshow(nc.variables['IR'][0, ::10, ::10], cmap='Greys', interpolation='none')"
   ]
  },
  {
   "cell_type": "markdown",
   "metadata": {
    "slideshow": {
     "slide_type": "subslide"
    }
   },
   "source": [
    "## Exercise #2\n",
    "Using `remote_access`, plot a subset of data from the High Resolution Rapid Refresh (http://thredds.ucar.edu/thredds/catalog/grib/NCEP/HRRR/CONUS_2p5km/catalog.html). Pick any of the available collections or individual model runs."
   ]
  },
  {
   "cell_type": "code",
   "execution_count": null,
   "metadata": {
    "collapsed": true,
    "jupyter": {
     "outputs_hidden": true
    },
    "slideshow": {
     "slide_type": "subslide"
    }
   },
   "outputs": [],
   "source": []
  },
  {
   "cell_type": "markdown",
   "metadata": {
    "slideshow": {
     "slide_type": "subslide"
    }
   },
   "source": [
    "For some datasets, subset support is availble:\n",
    "- Defaults to netCDF Subset Service (NCSS)\n",
    "- Allows specifying latitude, longitude, time, and variables\n",
    "- NCSS downloads a netCDF file"
   ]
  },
  {
   "cell_type": "markdown",
   "metadata": {
    "slideshow": {
     "slide_type": "subslide"
    }
   },
   "source": [
    "To use NCSS, we can call `subset` and get a client."
   ]
  },
  {
   "cell_type": "code",
   "execution_count": 23,
   "metadata": {},
   "outputs": [
    {
     "data": {
      "text/plain": [
       "{'5-Wave_Geopotential_Height_isobaric',\n",
       " 'Absolute_vorticity_isobaric',\n",
       " 'Albedo_surface_Mixed_intervals_Average',\n",
       " 'Apparent_temperature_height_above_ground',\n",
       " 'Best_4_layer_Lifted_Index_surface',\n",
       " 'Categorical_Freezing_Rain_surface_Mixed_intervals_Average',\n",
       " 'Categorical_Ice_Pellets_surface_Mixed_intervals_Average',\n",
       " 'Categorical_Rain_surface_Mixed_intervals_Average',\n",
       " 'Categorical_Snow_surface_Mixed_intervals_Average',\n",
       " 'Cloud_Work_Function_entire_atmosphere_single_layer_Mixed_intervals_Average',\n",
       " 'Cloud_mixing_ratio_isobaric',\n",
       " 'Cloud_water_entire_atmosphere_single_layer',\n",
       " 'Convective_Precipitation_Rate_surface_Mixed_intervals_Average',\n",
       " 'Convective_available_potential_energy_pressure_difference_layer',\n",
       " 'Convective_available_potential_energy_surface',\n",
       " 'Convective_inhibition_pressure_difference_layer',\n",
       " 'Convective_inhibition_surface',\n",
       " 'Convective_precipitation_surface_Mixed_intervals_Accumulation',\n",
       " 'Dewpoint_temperature_height_above_ground',\n",
       " 'Downward_Long-Wave_Radp_Flux_surface_Mixed_intervals_Average',\n",
       " 'Downward_Short-Wave_Radiation_Flux_surface_Mixed_intervals_Average',\n",
       " 'Field_Capacity_surface',\n",
       " 'Geopotential_height_highest_tropospheric_freezing',\n",
       " 'Geopotential_height_isobaric',\n",
       " 'Geopotential_height_maximum_wind',\n",
       " 'Geopotential_height_potential_vorticity_surface',\n",
       " 'Geopotential_height_surface',\n",
       " 'Geopotential_height_tropopause',\n",
       " 'Geopotential_height_zeroDegC_isotherm',\n",
       " 'Ground_Heat_Flux_surface_Mixed_intervals_Average',\n",
       " 'Haines_index_surface',\n",
       " 'ICAO_Standard_Atmosphere_Reference_Height_maximum_wind',\n",
       " 'ICAO_Standard_Atmosphere_Reference_Height_tropopause',\n",
       " 'Ice_cover_surface',\n",
       " 'Icing_severity_isobaric',\n",
       " 'Land-sea_coverage_nearest_neighbor_land1sea0_surface',\n",
       " 'Land_cover_0__sea_1__land_surface',\n",
       " 'Latent_heat_net_flux_surface_Mixed_intervals_Average',\n",
       " 'MSLP_Eta_model_reduction_msl',\n",
       " 'Maximum_temperature_height_above_ground_Mixed_intervals_Maximum',\n",
       " 'Meridional_Flux_of_Gravity_Wave_Stress_surface_Mixed_intervals_Average',\n",
       " 'Minimum_temperature_height_above_ground_Mixed_intervals_Minimum',\n",
       " 'Momentum_flux_u-component_surface_Mixed_intervals_Average',\n",
       " 'Momentum_flux_v-component_surface_Mixed_intervals_Average',\n",
       " 'Ozone_Mixing_Ratio_isobaric',\n",
       " 'Per_cent_frozen_precipitation_surface',\n",
       " 'Planetary_Boundary_Layer_Height_surface',\n",
       " 'Potential_Evaporation_Rate_surface',\n",
       " 'Potential_temperature_sigma',\n",
       " 'Precipitable_water_entire_atmosphere_single_layer',\n",
       " 'Precipitation_rate_surface_Mixed_intervals_Average',\n",
       " 'Pressure_convective_cloud_bottom',\n",
       " 'Pressure_convective_cloud_top',\n",
       " 'Pressure_height_above_ground',\n",
       " 'Pressure_high_cloud_bottom_Mixed_intervals_Average',\n",
       " 'Pressure_high_cloud_top_Mixed_intervals_Average',\n",
       " 'Pressure_low_cloud_bottom_Mixed_intervals_Average',\n",
       " 'Pressure_low_cloud_top_Mixed_intervals_Average',\n",
       " 'Pressure_maximum_wind',\n",
       " 'Pressure_middle_cloud_bottom_Mixed_intervals_Average',\n",
       " 'Pressure_middle_cloud_top_Mixed_intervals_Average',\n",
       " 'Pressure_of_level_from_which_parcel_was_lifted_pressure_difference_layer',\n",
       " 'Pressure_potential_vorticity_surface',\n",
       " 'Pressure_reduced_to_MSL_msl',\n",
       " 'Pressure_surface',\n",
       " 'Pressure_tropopause',\n",
       " 'Relative_humidity_entire_atmosphere_single_layer',\n",
       " 'Relative_humidity_height_above_ground',\n",
       " 'Relative_humidity_highest_tropospheric_freezing',\n",
       " 'Relative_humidity_isobaric',\n",
       " 'Relative_humidity_pressure_difference_layer',\n",
       " 'Relative_humidity_sigma',\n",
       " 'Relative_humidity_sigma_layer',\n",
       " 'Relative_humidity_zeroDegC_isotherm',\n",
       " 'Sensible_heat_net_flux_surface_Mixed_intervals_Average',\n",
       " 'Snow_depth_surface',\n",
       " 'Soil_temperature_depth_below_surface_layer',\n",
       " 'Specific_humidity_height_above_ground',\n",
       " 'Specific_humidity_pressure_difference_layer',\n",
       " 'Storm_relative_helicity_height_above_ground_layer',\n",
       " 'Sunshine_Duration_surface',\n",
       " 'Surface_Lifted_Index_surface',\n",
       " 'Temperature_altitude_above_msl',\n",
       " 'Temperature_height_above_ground',\n",
       " 'Temperature_high_cloud_top_Mixed_intervals_Average',\n",
       " 'Temperature_isobaric',\n",
       " 'Temperature_low_cloud_top_Mixed_intervals_Average',\n",
       " 'Temperature_maximum_wind',\n",
       " 'Temperature_middle_cloud_top_Mixed_intervals_Average',\n",
       " 'Temperature_potential_vorticity_surface',\n",
       " 'Temperature_pressure_difference_layer',\n",
       " 'Temperature_sigma',\n",
       " 'Temperature_surface',\n",
       " 'Temperature_tropopause',\n",
       " 'Total_cloud_cover_boundary_layer_cloud_Mixed_intervals_Average',\n",
       " 'Total_cloud_cover_convective_cloud',\n",
       " 'Total_cloud_cover_entire_atmosphere_Mixed_intervals_Average',\n",
       " 'Total_cloud_cover_high_cloud_Mixed_intervals_Average',\n",
       " 'Total_cloud_cover_low_cloud_Mixed_intervals_Average',\n",
       " 'Total_cloud_cover_middle_cloud_Mixed_intervals_Average',\n",
       " 'Total_ozone_entire_atmosphere_single_layer',\n",
       " 'Total_precipitation_surface_Mixed_intervals_Accumulation',\n",
       " 'U-Component_Storm_Motion_height_above_ground_layer',\n",
       " 'Upward_Long-Wave_Radp_Flux_atmosphere_top_Mixed_intervals_Average',\n",
       " 'Upward_Long-Wave_Radp_Flux_surface_Mixed_intervals_Average',\n",
       " 'Upward_Short-Wave_Radiation_Flux_atmosphere_top_Mixed_intervals_Average',\n",
       " 'Upward_Short-Wave_Radiation_Flux_surface_Mixed_intervals_Average',\n",
       " 'V-Component_Storm_Motion_height_above_ground_layer',\n",
       " 'Ventilation_Rate_planetary_boundary',\n",
       " 'Vertical_Speed_Shear_potential_vorticity_surface',\n",
       " 'Vertical_Speed_Shear_tropopause',\n",
       " 'Vertical_velocity_pressure_isobaric',\n",
       " 'Vertical_velocity_pressure_sigma',\n",
       " 'Visibility_surface',\n",
       " 'Volumetric_Soil_Moisture_Content_depth_below_surface_layer',\n",
       " 'Water_equivalent_of_accumulated_snow_depth_surface',\n",
       " 'Water_runoff_surface_Mixed_intervals_Accumulation',\n",
       " 'Wilting_Point_surface',\n",
       " 'Wind_speed_gust_surface',\n",
       " 'Zonal_Flux_of_Gravity_Wave_Stress_surface_Mixed_intervals_Average',\n",
       " 'u-component_of_wind_altitude_above_msl',\n",
       " 'u-component_of_wind_height_above_ground',\n",
       " 'u-component_of_wind_isobaric',\n",
       " 'u-component_of_wind_maximum_wind',\n",
       " 'u-component_of_wind_planetary_boundary',\n",
       " 'u-component_of_wind_potential_vorticity_surface',\n",
       " 'u-component_of_wind_pressure_difference_layer',\n",
       " 'u-component_of_wind_sigma',\n",
       " 'u-component_of_wind_tropopause',\n",
       " 'v-component_of_wind_altitude_above_msl',\n",
       " 'v-component_of_wind_height_above_ground',\n",
       " 'v-component_of_wind_isobaric',\n",
       " 'v-component_of_wind_maximum_wind',\n",
       " 'v-component_of_wind_planetary_boundary',\n",
       " 'v-component_of_wind_potential_vorticity_surface',\n",
       " 'v-component_of_wind_pressure_difference_layer',\n",
       " 'v-component_of_wind_sigma',\n",
       " 'v-component_of_wind_tropopause'}"
      ]
     },
     "execution_count": 23,
     "metadata": {},
     "output_type": "execute_result"
    }
   ],
   "source": [
    "ds = TDSCatalog('http://thredds.ucar.edu/thredds/catalog/'\n",
    "                'grib/NCEP/GFS/Global_0p25deg/catalog.xml').datasets[1]\n",
    "ncss = ds.subset()\n",
    "ncss.variables"
   ]
  },
  {
   "cell_type": "markdown",
   "metadata": {
    "slideshow": {
     "slide_type": "subslide"
    }
   },
   "source": [
    "With this client we can set up a query for the data we want. In this case we request the next 24 hours of forecast:"
   ]
  },
  {
   "cell_type": "code",
   "execution_count": 24,
   "metadata": {},
   "outputs": [
    {
     "data": {
      "text/plain": [
       "var=Temperature_surface&time_end=2017-07-26T15%3A09%3A32.533117&time_start=2017-07-25T15%3A09%3A32.533117&latitude=40&longitude=-105&accept=netcdf4"
      ]
     },
     "execution_count": 24,
     "metadata": {},
     "output_type": "execute_result"
    }
   ],
   "source": [
    "query = ncss.query()\n",
    "query.lonlat_point(lon=-105, lat=40)\n",
    "now = datetime.utcnow()\n",
    "query.time_range(now, now + timedelta(days=1))\n",
    "query.variables('Temperature_surface')\n",
    "query.accept('netcdf4')"
   ]
  },
  {
   "cell_type": "markdown",
   "metadata": {
    "slideshow": {
     "slide_type": "subslide"
    }
   },
   "source": [
    "From here, we need to get the data, which will return it as an already opened netCDF4 object."
   ]
  },
  {
   "cell_type": "code",
   "execution_count": 25,
   "metadata": {
    "collapsed": true,
    "jupyter": {
     "outputs_hidden": true
    }
   },
   "outputs": [
    {
     "data": {
      "text/plain": [
       "[<matplotlib.lines.Line2D at 0x7fd92d967d30>]"
      ]
     },
     "execution_count": 25,
     "metadata": {},
     "output_type": "execute_result"
    },
    {
     "data": {
      "image/png": "[encoded data removed]",
      "text/plain": [
       "<matplotlib.figure.Figure at 0x7fd92d930c88>"
      ]
     },
     "metadata": {},
     "output_type": "display_data"
    }
   ],
   "source": [
    "nc = ncss.get_data(query)\n",
    "temp_data = nc.variables['Temperature_surface'][:]\n",
    "times = nc.variables['time'][:]\n",
    "fig, ax = plt.subplots(1, 1, figsize=(6, 6))\n",
    "ax.plot(times, temp_data)"
   ]
  },
  {
   "cell_type": "markdown",
   "metadata": {
    "slideshow": {
     "slide_type": "subslide"
    }
   },
   "source": [
    "We can also request the data for a particular time for a region of interest:"
   ]
  },
  {
   "cell_type": "code",
   "execution_count": 26,
   "metadata": {
    "collapsed": true,
    "jupyter": {
     "outputs_hidden": true
    }
   },
   "outputs": [],
   "source": [
    "query = ncss.query()\n",
    "query.lonlat_box(east=-80, west=-90, south=35, north=45)\n",
    "query.time(now + timedelta(days=1))\n",
    "query.variables('Temperature_surface')\n",
    "query.accept('netcdf4')\n",
    "nc = ncss.get_data(query)"
   ]
  },
  {
   "cell_type": "code",
   "execution_count": 27,
   "metadata": {
    "slideshow": {
     "slide_type": "subslide"
    }
   },
   "outputs": [
    {
     "data": {
      "text/plain": [
       "<matplotlib.image.AxesImage at 0x7fd9200efcc0>"
      ]
     },
     "execution_count": 27,
     "metadata": {},
     "output_type": "execute_result"
    },
    {
     "data": {
      "image/png": "[encoded data removed]",
      "text/plain": [
       "<matplotlib.figure.Figure at 0x7fd9200eff60>"
      ]
     },
     "metadata": {},
     "output_type": "display_data"
    }
   ],
   "source": [
    "fig, ax = plt.subplots(1, 1, figsize=(6, 6))\n",
    "ax.imshow(nc.variables['Temperature_surface'][0], cmap='RdBu')"
   ]
  },
  {
   "cell_type": "markdown",
   "metadata": {
    "slideshow": {
     "slide_type": "subslide"
    }
   },
   "source": [
    "## Exercise #3\n",
    "- Use `subset` to download a subset of data from one of:\n",
    "  - http://thredds.ucar.edu/thredds/catalog/grib/NCEP/WW3/Global/catalog.html\n",
    "  - http://thredds.ucar.edu/thredds/catalog/grib/NCEP/HRRR/CONUS_2p5km/catalog.html\n",
    "- Pick either a time-series or a 2D subset\n",
    "- Plot using either `plot` or `imshow`"
   ]
  },
  {
   "cell_type": "markdown",
   "metadata": {},
   "source": [
    "## A full Example"
   ]
  },
  {
   "cell_type": "code",
   "execution_count": 28,
   "metadata": {},
   "outputs": [
    {
     "data": {
      "text/plain": [
       "[<matplotlib.lines.Line2D at 0x7fd9103422b0>]"
      ]
     },
     "execution_count": 28,
     "metadata": {},
     "output_type": "execute_result"
    },
    {
     "data": {
      "image/png": "[encoded data removed]",
      "text/plain": [
       "<matplotlib.figure.Figure at 0x7fd911c287b8>"
      ]
     },
     "metadata": {},
     "output_type": "display_data"
    }
   ],
   "source": [
    "# Get the dataset handle\n",
    "top_cat = TDSCatalog('http://thredds.ucar.edu/thredds/catalog.xml')\n",
    "models_cat = top_cat.catalog_refs[0].follow()\n",
    "gfs_cat = models_cat.catalog_refs['GFS Quarter Degree Forecast'].follow()\n",
    "latest_gfs = gfs_cat.latest\n",
    "\n",
    "# Download a subset using NCSS\n",
    "now = datetime.utcnow()\n",
    "ncss = latest_gfs.subset()\n",
    "query = ncss.query().lonlat_point(lon=-86.50, lat=39.17)\n",
    "query.time_range(now, now + timedelta(days=3)).accept('netcdf4')\n",
    "query.variables('Temperature_surface')\n",
    "nc = ncss.get_data(query)\n",
    "\n",
    "# Plot\n",
    "fig, ax = plt.subplots(1, 1, figsize=(10, 10))\n",
    "temp_f = 1.8 * (nc.variables['Temperature_surface'][:] - 273.15) + 32\n",
    "ax.plot(temp_f, color='r')"
   ]
  },
  {
   "cell_type": "markdown",
   "metadata": {
    "slideshow": {
     "slide_type": "slide"
    }
   },
   "source": [
    "# Future plans for Siphon\n",
    "- Add curated list of servers\n",
    "- Support for access to meteorological uppear air archives\n",
    "- Support for TDS 5.0 CDM Remote Feature service\n",
    "- Search catalogs using CSW"
   ]
  },
  {
   "cell_type": "markdown",
   "metadata": {
    "slideshow": {
     "slide_type": "subslide"
    }
   },
   "source": [
    "## Resources\n",
    "- Siphon docs: https://unidata.github.io/siphon\n",
    "- Unidata Python Workshop: https://unidata.github.com/unidata-python-workshop\n",
    "- Unidata Python Gallery: https://unidata.github.com/python-gallery"
   ]
  }
 ],
 "metadata": {
  "kernelspec": {
   "display_name": "Python 3",
   "language": "python",
   "name": "python3"
  },
  "language_info": {
   "codemirror_mode": {
    "name": "ipython",
    "version": 3
   },
   "file_extension": ".py",
   "mimetype": "text/x-python",
   "name": "python",
   "nbconvert_exporter": "python",
   "pygments_lexer": "ipython3",
   "version": "3.8.3"
  }
 },
 "nbformat": 4,
 "nbformat_minor": 4
}
